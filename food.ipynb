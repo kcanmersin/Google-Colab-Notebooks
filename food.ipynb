{
  "nbformat": 4,
  "nbformat_minor": 0,
  "metadata": {
    "colab": {
      "provenance": [],
      "gpuType": "T4"
    },
    "kernelspec": {
      "name": "python3",
      "display_name": "Python 3"
    },
    "language_info": {
      "name": "python"
    },
    "accelerator": "GPU"
  },
  "cells": [
    {
      "cell_type": "code",
      "execution_count": null,
      "metadata": {
        "colab": {
          "base_uri": "https://localhost:8080/"
        },
        "id": "GHxodS68uK9I",
        "outputId": "a43b9352-ea7d-4419-f20e-9db649d6b5f2"
      },
      "outputs": [
        {
          "output_type": "stream",
          "name": "stdout",
          "text": [
            "Requirement already satisfied: kaggle in /usr/local/lib/python3.10/dist-packages (1.5.16)\n",
            "Requirement already satisfied: six>=1.10 in /usr/local/lib/python3.10/dist-packages (from kaggle) (1.16.0)\n",
            "Requirement already satisfied: certifi in /usr/local/lib/python3.10/dist-packages (from kaggle) (2023.5.7)\n",
            "Requirement already satisfied: python-dateutil in /usr/local/lib/python3.10/dist-packages (from kaggle) (2.8.2)\n",
            "Requirement already satisfied: requests in /usr/local/lib/python3.10/dist-packages (from kaggle) (2.27.1)\n",
            "Requirement already satisfied: tqdm in /usr/local/lib/python3.10/dist-packages (from kaggle) (4.65.0)\n",
            "Requirement already satisfied: python-slugify in /usr/local/lib/python3.10/dist-packages (from kaggle) (8.0.1)\n",
            "Requirement already satisfied: urllib3 in /usr/local/lib/python3.10/dist-packages (from kaggle) (1.26.16)\n",
            "Requirement already satisfied: bleach in /usr/local/lib/python3.10/dist-packages (from kaggle) (6.0.0)\n",
            "Requirement already satisfied: webencodings in /usr/local/lib/python3.10/dist-packages (from bleach->kaggle) (0.5.1)\n",
            "Requirement already satisfied: text-unidecode>=1.3 in /usr/local/lib/python3.10/dist-packages (from python-slugify->kaggle) (1.3)\n",
            "Requirement already satisfied: charset-normalizer~=2.0.0 in /usr/local/lib/python3.10/dist-packages (from requests->kaggle) (2.0.12)\n",
            "Requirement already satisfied: idna<4,>=2.5 in /usr/local/lib/python3.10/dist-packages (from requests->kaggle) (3.4)\n"
          ]
        }
      ],
      "source": []
    },
    {
      "cell_type": "code",
      "source": [
        "!mkdir ~/.kaggle\n",
        "!mv kaggle.json ~/.kaggle/kaggle.json\n",
        "\n",
        "# Set appropriate permissions\n",
        "!chmod 600 ~/.kaggle/kaggle.json"
      ],
      "metadata": {
        "colab": {
          "base_uri": "https://localhost:8080/"
        },
        "id": "C4CkIX9b3i_1",
        "outputId": "a1d9be36-9055-44c4-ebfc-b82b64fde295"
      },
      "execution_count": 39,
      "outputs": [
        {
          "output_type": "stream",
          "name": "stdout",
          "text": [
            "mkdir: cannot create directory ‘/root/.kaggle’: File exists\n",
            "mv: cannot stat 'kaggle.json': No such file or directory\n"
          ]
        }
      ]
    },
    {
      "cell_type": "code",
      "source": [
        "import os\n",
        "import kaggle\n",
        "import gdown\n",
        "\n",
        "def download_kaggle_dataset_to_drive(dataset_name, drive_folder_path):\n",
        "    # Create a folder in Google Drive to store the downloaded dataset\n",
        "    if not os.path.exists(drive_folder_path):\n",
        "        os.makedirs(drive_folder_path)\n",
        "\n",
        "    # Set the path where you want to download the dataset in the drive_folder_path\n",
        "    download_path = os.path.join(drive_folder_path, dataset_name)\n",
        "\n",
        "    # Use the Kaggle API to download the dataset files\n",
        "    kaggle.api.dataset_download_files(dataset_name, path=download_path, unzip=True, quiet=True)\n",
        "\n",
        "    # List the downloaded files\n",
        "    downloaded_files = os.listdir(download_path)\n",
        "    print(f'Downloaded {len(downloaded_files)} files from the dataset: {dataset_name}')\n",
        "\n",
        "# Example usage:\n",
        "dataset_name = 'kmader/food41'\n",
        "drive_folder_path = '/content/drive/MyDrive/KaggleDatasets'\n",
        "download_kaggle_dataset_to_drive(dataset_name, drive_folder_path)\n",
        "csv_file_path = os.path.join(drive_folder_path, dataset_name)\n"
      ],
      "metadata": {
        "colab": {
          "base_uri": "https://localhost:8080/"
        },
        "id": "6ejEnY9VuNMj",
        "outputId": "1972ffc0-42fb-4ba7-9d82-de045f63bade"
      },
      "execution_count": 40,
      "outputs": [
        {
          "output_type": "stream",
          "name": "stdout",
          "text": [
            "Downloaded 13 files from the dataset: kmader/food41\n"
          ]
        }
      ]
    },
    {
      "cell_type": "code",
      "source": [
        "file_path = os.path.join(drive_folder_path, dataset_name)"
      ],
      "metadata": {
        "id": "sHlyaJ_W4XIW"
      },
      "execution_count": 41,
      "outputs": []
    },
    {
      "cell_type": "code",
      "source": [
        "file_path"
      ],
      "metadata": {
        "colab": {
          "base_uri": "https://localhost:8080/",
          "height": 35
        },
        "id": "_aj7pnxL4ZDJ",
        "outputId": "0ea2c265-66e5-4b8b-c0b5-294ef152763c"
      },
      "execution_count": 42,
      "outputs": [
        {
          "output_type": "execute_result",
          "data": {
            "text/plain": [
              "'/content/drive/MyDrive/KaggleDatasets/kmader/food41'"
            ],
            "application/vnd.google.colaboratory.intrinsic+json": {
              "type": "string"
            }
          },
          "metadata": {},
          "execution_count": 42
        }
      ]
    },
    {
      "cell_type": "code",
      "source": [
        "import numpy as np\n",
        "import pandas as pd\n",
        "from pathlib import Path\n",
        "import os.path\n",
        "\n",
        "import matplotlib.pyplot as plt\n",
        "import seaborn as sns\n",
        "\n",
        "from sklearn.model_selection import train_test_split\n",
        "\n",
        "import tensorflow as tf\n",
        "\n",
        "from sklearn.metrics import confusion_matrix,classification_report"
      ],
      "metadata": {
        "id": "LgeiXap_uZ6O"
      },
      "execution_count": 26,
      "outputs": []
    },
    {
      "cell_type": "code",
      "source": [
        "image_dir = Path(file_path+\"/images\")"
      ],
      "metadata": {
        "id": "mh520AOnx5A9"
      },
      "execution_count": 44,
      "outputs": []
    },
    {
      "cell_type": "code",
      "source": [
        "image_dir"
      ],
      "metadata": {
        "colab": {
          "base_uri": "https://localhost:8080/"
        },
        "id": "ve5R6ZEK4gxf",
        "outputId": "8849bbc8-8ce3-4761-a1ca-4581e3e3f199"
      },
      "execution_count": 45,
      "outputs": [
        {
          "output_type": "execute_result",
          "data": {
            "text/plain": [
              "PosixPath('/content/drive/MyDrive/KaggleDatasets/kmader/food41/images')"
            ]
          },
          "metadata": {},
          "execution_count": 45
        }
      ]
    },
    {
      "cell_type": "markdown",
      "source": [
        "### Creating Dataframe\n"
      ],
      "metadata": {
        "id": "6hVt5RtqyL3R"
      }
    },
    {
      "cell_type": "code",
      "source": [
        "filepaths=list(image_dir.glob(r\"**/*.jpg\"))"
      ],
      "metadata": {
        "id": "_NLaDAXqyEgq"
      },
      "execution_count": 46,
      "outputs": []
    },
    {
      "cell_type": "code",
      "source": [
        "labels=list(map(lambda x:os.path.split(os.path.split(x)[0])[1],filepaths))"
      ],
      "metadata": {
        "id": "mpCGzLt6yVHc"
      },
      "execution_count": 47,
      "outputs": []
    },
    {
      "cell_type": "code",
      "source": [
        "len(labels)"
      ],
      "metadata": {
        "colab": {
          "base_uri": "https://localhost:8080/"
        },
        "id": "tjjJgoW8yZuH",
        "outputId": "44a70fa7-471e-4cac-b45c-79402e78e038"
      },
      "execution_count": 48,
      "outputs": [
        {
          "output_type": "execute_result",
          "data": {
            "text/plain": [
              "101000"
            ]
          },
          "metadata": {},
          "execution_count": 48
        }
      ]
    },
    {
      "cell_type": "code",
      "source": [
        "filepaths = pd.Series(filepaths,name=\"Filepath\").astype(str)\n",
        "labels = pd.Series(labels,name=\"Label\")\n"
      ],
      "metadata": {
        "id": "Dvk_5vb2zCfC"
      },
      "execution_count": 49,
      "outputs": []
    },
    {
      "cell_type": "code",
      "source": [
        "images = pd.concat([filepaths,labels],axis=1)"
      ],
      "metadata": {
        "id": "ICZpkyuO00p8"
      },
      "execution_count": 50,
      "outputs": []
    },
    {
      "cell_type": "code",
      "source": [
        "images.head()"
      ],
      "metadata": {
        "colab": {
          "base_uri": "https://localhost:8080/",
          "height": 206
        },
        "id": "6PDhXF8Z06xe",
        "outputId": "b9f240d4-45a4-41b6-ca4f-bbea94995d23"
      },
      "execution_count": 51,
      "outputs": [
        {
          "output_type": "execute_result",
          "data": {
            "text/plain": [
              "                                            Filepath                Label\n",
              "0  /content/drive/MyDrive/KaggleDatasets/kmader/f...  macaroni_and_cheese\n",
              "1  /content/drive/MyDrive/KaggleDatasets/kmader/f...  macaroni_and_cheese\n",
              "2  /content/drive/MyDrive/KaggleDatasets/kmader/f...  macaroni_and_cheese\n",
              "3  /content/drive/MyDrive/KaggleDatasets/kmader/f...  macaroni_and_cheese\n",
              "4  /content/drive/MyDrive/KaggleDatasets/kmader/f...  macaroni_and_cheese"
            ],
            "text/html": [
              "\n",
              "\n",
              "  <div id=\"df-9d462aa4-bbf5-4183-abd9-92c412d45bd2\">\n",
              "    <div class=\"colab-df-container\">\n",
              "      <div>\n",
              "<style scoped>\n",
              "    .dataframe tbody tr th:only-of-type {\n",
              "        vertical-align: middle;\n",
              "    }\n",
              "\n",
              "    .dataframe tbody tr th {\n",
              "        vertical-align: top;\n",
              "    }\n",
              "\n",
              "    .dataframe thead th {\n",
              "        text-align: right;\n",
              "    }\n",
              "</style>\n",
              "<table border=\"1\" class=\"dataframe\">\n",
              "  <thead>\n",
              "    <tr style=\"text-align: right;\">\n",
              "      <th></th>\n",
              "      <th>Filepath</th>\n",
              "      <th>Label</th>\n",
              "    </tr>\n",
              "  </thead>\n",
              "  <tbody>\n",
              "    <tr>\n",
              "      <th>0</th>\n",
              "      <td>/content/drive/MyDrive/KaggleDatasets/kmader/f...</td>\n",
              "      <td>macaroni_and_cheese</td>\n",
              "    </tr>\n",
              "    <tr>\n",
              "      <th>1</th>\n",
              "      <td>/content/drive/MyDrive/KaggleDatasets/kmader/f...</td>\n",
              "      <td>macaroni_and_cheese</td>\n",
              "    </tr>\n",
              "    <tr>\n",
              "      <th>2</th>\n",
              "      <td>/content/drive/MyDrive/KaggleDatasets/kmader/f...</td>\n",
              "      <td>macaroni_and_cheese</td>\n",
              "    </tr>\n",
              "    <tr>\n",
              "      <th>3</th>\n",
              "      <td>/content/drive/MyDrive/KaggleDatasets/kmader/f...</td>\n",
              "      <td>macaroni_and_cheese</td>\n",
              "    </tr>\n",
              "    <tr>\n",
              "      <th>4</th>\n",
              "      <td>/content/drive/MyDrive/KaggleDatasets/kmader/f...</td>\n",
              "      <td>macaroni_and_cheese</td>\n",
              "    </tr>\n",
              "  </tbody>\n",
              "</table>\n",
              "</div>\n",
              "      <button class=\"colab-df-convert\" onclick=\"convertToInteractive('df-9d462aa4-bbf5-4183-abd9-92c412d45bd2')\"\n",
              "              title=\"Convert this dataframe to an interactive table.\"\n",
              "              style=\"display:none;\">\n",
              "\n",
              "  <svg xmlns=\"http://www.w3.org/2000/svg\" height=\"24px\"viewBox=\"0 0 24 24\"\n",
              "       width=\"24px\">\n",
              "    <path d=\"M0 0h24v24H0V0z\" fill=\"none\"/>\n",
              "    <path d=\"M18.56 5.44l.94 2.06.94-2.06 2.06-.94-2.06-.94-.94-2.06-.94 2.06-2.06.94zm-11 1L8.5 8.5l.94-2.06 2.06-.94-2.06-.94L8.5 2.5l-.94 2.06-2.06.94zm10 10l.94 2.06.94-2.06 2.06-.94-2.06-.94-.94-2.06-.94 2.06-2.06.94z\"/><path d=\"M17.41 7.96l-1.37-1.37c-.4-.4-.92-.59-1.43-.59-.52 0-1.04.2-1.43.59L10.3 9.45l-7.72 7.72c-.78.78-.78 2.05 0 2.83L4 21.41c.39.39.9.59 1.41.59.51 0 1.02-.2 1.41-.59l7.78-7.78 2.81-2.81c.8-.78.8-2.07 0-2.86zM5.41 20L4 18.59l7.72-7.72 1.47 1.35L5.41 20z\"/>\n",
              "  </svg>\n",
              "      </button>\n",
              "\n",
              "\n",
              "\n",
              "    <div id=\"df-f51afb71-0b23-4b2f-9378-456dfc51106f\">\n",
              "      <button class=\"colab-df-quickchart\" onclick=\"quickchart('df-f51afb71-0b23-4b2f-9378-456dfc51106f')\"\n",
              "              title=\"Suggest charts.\"\n",
              "              style=\"display:none;\">\n",
              "\n",
              "<svg xmlns=\"http://www.w3.org/2000/svg\" height=\"24px\"viewBox=\"0 0 24 24\"\n",
              "     width=\"24px\">\n",
              "    <g>\n",
              "        <path d=\"M19 3H5c-1.1 0-2 .9-2 2v14c0 1.1.9 2 2 2h14c1.1 0 2-.9 2-2V5c0-1.1-.9-2-2-2zM9 17H7v-7h2v7zm4 0h-2V7h2v10zm4 0h-2v-4h2v4z\"/>\n",
              "    </g>\n",
              "</svg>\n",
              "      </button>\n",
              "    </div>\n",
              "\n",
              "<style>\n",
              "  .colab-df-quickchart {\n",
              "    background-color: #E8F0FE;\n",
              "    border: none;\n",
              "    border-radius: 50%;\n",
              "    cursor: pointer;\n",
              "    display: none;\n",
              "    fill: #1967D2;\n",
              "    height: 32px;\n",
              "    padding: 0 0 0 0;\n",
              "    width: 32px;\n",
              "  }\n",
              "\n",
              "  .colab-df-quickchart:hover {\n",
              "    background-color: #E2EBFA;\n",
              "    box-shadow: 0px 1px 2px rgba(60, 64, 67, 0.3), 0px 1px 3px 1px rgba(60, 64, 67, 0.15);\n",
              "    fill: #174EA6;\n",
              "  }\n",
              "\n",
              "  [theme=dark] .colab-df-quickchart {\n",
              "    background-color: #3B4455;\n",
              "    fill: #D2E3FC;\n",
              "  }\n",
              "\n",
              "  [theme=dark] .colab-df-quickchart:hover {\n",
              "    background-color: #434B5C;\n",
              "    box-shadow: 0px 1px 3px 1px rgba(0, 0, 0, 0.15);\n",
              "    filter: drop-shadow(0px 1px 2px rgba(0, 0, 0, 0.3));\n",
              "    fill: #FFFFFF;\n",
              "  }\n",
              "</style>\n",
              "\n",
              "    <script>\n",
              "      async function quickchart(key) {\n",
              "        const containerElement = document.querySelector('#' + key);\n",
              "        const charts = await google.colab.kernel.invokeFunction(\n",
              "            'suggestCharts', [key], {});\n",
              "      }\n",
              "    </script>\n",
              "\n",
              "      <script>\n",
              "\n",
              "function displayQuickchartButton(domScope) {\n",
              "  let quickchartButtonEl =\n",
              "    domScope.querySelector('#df-f51afb71-0b23-4b2f-9378-456dfc51106f button.colab-df-quickchart');\n",
              "  quickchartButtonEl.style.display =\n",
              "    google.colab.kernel.accessAllowed ? 'block' : 'none';\n",
              "}\n",
              "\n",
              "        displayQuickchartButton(document);\n",
              "      </script>\n",
              "      <style>\n",
              "    .colab-df-container {\n",
              "      display:flex;\n",
              "      flex-wrap:wrap;\n",
              "      gap: 12px;\n",
              "    }\n",
              "\n",
              "    .colab-df-convert {\n",
              "      background-color: #E8F0FE;\n",
              "      border: none;\n",
              "      border-radius: 50%;\n",
              "      cursor: pointer;\n",
              "      display: none;\n",
              "      fill: #1967D2;\n",
              "      height: 32px;\n",
              "      padding: 0 0 0 0;\n",
              "      width: 32px;\n",
              "    }\n",
              "\n",
              "    .colab-df-convert:hover {\n",
              "      background-color: #E2EBFA;\n",
              "      box-shadow: 0px 1px 2px rgba(60, 64, 67, 0.3), 0px 1px 3px 1px rgba(60, 64, 67, 0.15);\n",
              "      fill: #174EA6;\n",
              "    }\n",
              "\n",
              "    [theme=dark] .colab-df-convert {\n",
              "      background-color: #3B4455;\n",
              "      fill: #D2E3FC;\n",
              "    }\n",
              "\n",
              "    [theme=dark] .colab-df-convert:hover {\n",
              "      background-color: #434B5C;\n",
              "      box-shadow: 0px 1px 3px 1px rgba(0, 0, 0, 0.15);\n",
              "      filter: drop-shadow(0px 1px 2px rgba(0, 0, 0, 0.3));\n",
              "      fill: #FFFFFF;\n",
              "    }\n",
              "  </style>\n",
              "\n",
              "      <script>\n",
              "        const buttonEl =\n",
              "          document.querySelector('#df-9d462aa4-bbf5-4183-abd9-92c412d45bd2 button.colab-df-convert');\n",
              "        buttonEl.style.display =\n",
              "          google.colab.kernel.accessAllowed ? 'block' : 'none';\n",
              "\n",
              "        async function convertToInteractive(key) {\n",
              "          const element = document.querySelector('#df-9d462aa4-bbf5-4183-abd9-92c412d45bd2');\n",
              "          const dataTable =\n",
              "            await google.colab.kernel.invokeFunction('convertToInteractive',\n",
              "                                                     [key], {});\n",
              "          if (!dataTable) return;\n",
              "\n",
              "          const docLinkHtml = 'Like what you see? Visit the ' +\n",
              "            '<a target=\"_blank\" href=https://colab.research.google.com/notebooks/data_table.ipynb>data table notebook</a>'\n",
              "            + ' to learn more about interactive tables.';\n",
              "          element.innerHTML = '';\n",
              "          dataTable['output_type'] = 'display_data';\n",
              "          await google.colab.output.renderOutput(dataTable, element);\n",
              "          const docLink = document.createElement('div');\n",
              "          docLink.innerHTML = docLinkHtml;\n",
              "          element.appendChild(docLink);\n",
              "        }\n",
              "      </script>\n",
              "    </div>\n",
              "  </div>\n"
            ]
          },
          "metadata": {},
          "execution_count": 51
        }
      ]
    },
    {
      "cell_type": "code",
      "source": [
        "category_samples=[]\n",
        "\n",
        "for category in images[\"Label\"].unique():\n",
        "  category_slice = images.query(\"Label == @category\")\n",
        "  category_samples.append(category_slice.sample(300,random_state=2))\n",
        "image_df = pd.concat(category_samples,axis=0).sample(frac=1.0,random_state=2).reset_index(drop=True)"
      ],
      "metadata": {
        "id": "qr3a3vFC08QK"
      },
      "execution_count": 69,
      "outputs": []
    },
    {
      "cell_type": "code",
      "source": [
        "image_df"
      ],
      "metadata": {
        "colab": {
          "base_uri": "https://localhost:8080/",
          "height": 423
        },
        "id": "J155lY6m2NME",
        "outputId": "07621afb-c1e3-4542-95cd-5290382900a9"
      },
      "execution_count": 70,
      "outputs": [
        {
          "output_type": "execute_result",
          "data": {
            "text/plain": [
              "                                                Filepath           Label\n",
              "0      /content/drive/MyDrive/KaggleDatasets/kmader/f...             pho\n",
              "1      /content/drive/MyDrive/KaggleDatasets/kmader/f...          hummus\n",
              "2      /content/drive/MyDrive/KaggleDatasets/kmader/f...       dumplings\n",
              "3      /content/drive/MyDrive/KaggleDatasets/kmader/f...  baby_back_ribs\n",
              "4      /content/drive/MyDrive/KaggleDatasets/kmader/f...     panna_cotta\n",
              "...                                                  ...             ...\n",
              "30295  /content/drive/MyDrive/KaggleDatasets/kmader/f...    tuna_tartare\n",
              "30296  /content/drive/MyDrive/KaggleDatasets/kmader/f...           gyoza\n",
              "30297  /content/drive/MyDrive/KaggleDatasets/kmader/f...  grilled_salmon\n",
              "30298  /content/drive/MyDrive/KaggleDatasets/kmader/f...   frozen_yogurt\n",
              "30299  /content/drive/MyDrive/KaggleDatasets/kmader/f...  beef_carpaccio\n",
              "\n",
              "[30300 rows x 2 columns]"
            ],
            "text/html": [
              "\n",
              "\n",
              "  <div id=\"df-f43ec094-c4c9-468c-8e79-401839c36093\">\n",
              "    <div class=\"colab-df-container\">\n",
              "      <div>\n",
              "<style scoped>\n",
              "    .dataframe tbody tr th:only-of-type {\n",
              "        vertical-align: middle;\n",
              "    }\n",
              "\n",
              "    .dataframe tbody tr th {\n",
              "        vertical-align: top;\n",
              "    }\n",
              "\n",
              "    .dataframe thead th {\n",
              "        text-align: right;\n",
              "    }\n",
              "</style>\n",
              "<table border=\"1\" class=\"dataframe\">\n",
              "  <thead>\n",
              "    <tr style=\"text-align: right;\">\n",
              "      <th></th>\n",
              "      <th>Filepath</th>\n",
              "      <th>Label</th>\n",
              "    </tr>\n",
              "  </thead>\n",
              "  <tbody>\n",
              "    <tr>\n",
              "      <th>0</th>\n",
              "      <td>/content/drive/MyDrive/KaggleDatasets/kmader/f...</td>\n",
              "      <td>pho</td>\n",
              "    </tr>\n",
              "    <tr>\n",
              "      <th>1</th>\n",
              "      <td>/content/drive/MyDrive/KaggleDatasets/kmader/f...</td>\n",
              "      <td>hummus</td>\n",
              "    </tr>\n",
              "    <tr>\n",
              "      <th>2</th>\n",
              "      <td>/content/drive/MyDrive/KaggleDatasets/kmader/f...</td>\n",
              "      <td>dumplings</td>\n",
              "    </tr>\n",
              "    <tr>\n",
              "      <th>3</th>\n",
              "      <td>/content/drive/MyDrive/KaggleDatasets/kmader/f...</td>\n",
              "      <td>baby_back_ribs</td>\n",
              "    </tr>\n",
              "    <tr>\n",
              "      <th>4</th>\n",
              "      <td>/content/drive/MyDrive/KaggleDatasets/kmader/f...</td>\n",
              "      <td>panna_cotta</td>\n",
              "    </tr>\n",
              "    <tr>\n",
              "      <th>...</th>\n",
              "      <td>...</td>\n",
              "      <td>...</td>\n",
              "    </tr>\n",
              "    <tr>\n",
              "      <th>30295</th>\n",
              "      <td>/content/drive/MyDrive/KaggleDatasets/kmader/f...</td>\n",
              "      <td>tuna_tartare</td>\n",
              "    </tr>\n",
              "    <tr>\n",
              "      <th>30296</th>\n",
              "      <td>/content/drive/MyDrive/KaggleDatasets/kmader/f...</td>\n",
              "      <td>gyoza</td>\n",
              "    </tr>\n",
              "    <tr>\n",
              "      <th>30297</th>\n",
              "      <td>/content/drive/MyDrive/KaggleDatasets/kmader/f...</td>\n",
              "      <td>grilled_salmon</td>\n",
              "    </tr>\n",
              "    <tr>\n",
              "      <th>30298</th>\n",
              "      <td>/content/drive/MyDrive/KaggleDatasets/kmader/f...</td>\n",
              "      <td>frozen_yogurt</td>\n",
              "    </tr>\n",
              "    <tr>\n",
              "      <th>30299</th>\n",
              "      <td>/content/drive/MyDrive/KaggleDatasets/kmader/f...</td>\n",
              "      <td>beef_carpaccio</td>\n",
              "    </tr>\n",
              "  </tbody>\n",
              "</table>\n",
              "<p>30300 rows × 2 columns</p>\n",
              "</div>\n",
              "      <button class=\"colab-df-convert\" onclick=\"convertToInteractive('df-f43ec094-c4c9-468c-8e79-401839c36093')\"\n",
              "              title=\"Convert this dataframe to an interactive table.\"\n",
              "              style=\"display:none;\">\n",
              "\n",
              "  <svg xmlns=\"http://www.w3.org/2000/svg\" height=\"24px\"viewBox=\"0 0 24 24\"\n",
              "       width=\"24px\">\n",
              "    <path d=\"M0 0h24v24H0V0z\" fill=\"none\"/>\n",
              "    <path d=\"M18.56 5.44l.94 2.06.94-2.06 2.06-.94-2.06-.94-.94-2.06-.94 2.06-2.06.94zm-11 1L8.5 8.5l.94-2.06 2.06-.94-2.06-.94L8.5 2.5l-.94 2.06-2.06.94zm10 10l.94 2.06.94-2.06 2.06-.94-2.06-.94-.94-2.06-.94 2.06-2.06.94z\"/><path d=\"M17.41 7.96l-1.37-1.37c-.4-.4-.92-.59-1.43-.59-.52 0-1.04.2-1.43.59L10.3 9.45l-7.72 7.72c-.78.78-.78 2.05 0 2.83L4 21.41c.39.39.9.59 1.41.59.51 0 1.02-.2 1.41-.59l7.78-7.78 2.81-2.81c.8-.78.8-2.07 0-2.86zM5.41 20L4 18.59l7.72-7.72 1.47 1.35L5.41 20z\"/>\n",
              "  </svg>\n",
              "      </button>\n",
              "\n",
              "\n",
              "\n",
              "    <div id=\"df-71b02c62-fff1-4a1c-ad55-5cf3fd07e836\">\n",
              "      <button class=\"colab-df-quickchart\" onclick=\"quickchart('df-71b02c62-fff1-4a1c-ad55-5cf3fd07e836')\"\n",
              "              title=\"Suggest charts.\"\n",
              "              style=\"display:none;\">\n",
              "\n",
              "<svg xmlns=\"http://www.w3.org/2000/svg\" height=\"24px\"viewBox=\"0 0 24 24\"\n",
              "     width=\"24px\">\n",
              "    <g>\n",
              "        <path d=\"M19 3H5c-1.1 0-2 .9-2 2v14c0 1.1.9 2 2 2h14c1.1 0 2-.9 2-2V5c0-1.1-.9-2-2-2zM9 17H7v-7h2v7zm4 0h-2V7h2v10zm4 0h-2v-4h2v4z\"/>\n",
              "    </g>\n",
              "</svg>\n",
              "      </button>\n",
              "    </div>\n",
              "\n",
              "<style>\n",
              "  .colab-df-quickchart {\n",
              "    background-color: #E8F0FE;\n",
              "    border: none;\n",
              "    border-radius: 50%;\n",
              "    cursor: pointer;\n",
              "    display: none;\n",
              "    fill: #1967D2;\n",
              "    height: 32px;\n",
              "    padding: 0 0 0 0;\n",
              "    width: 32px;\n",
              "  }\n",
              "\n",
              "  .colab-df-quickchart:hover {\n",
              "    background-color: #E2EBFA;\n",
              "    box-shadow: 0px 1px 2px rgba(60, 64, 67, 0.3), 0px 1px 3px 1px rgba(60, 64, 67, 0.15);\n",
              "    fill: #174EA6;\n",
              "  }\n",
              "\n",
              "  [theme=dark] .colab-df-quickchart {\n",
              "    background-color: #3B4455;\n",
              "    fill: #D2E3FC;\n",
              "  }\n",
              "\n",
              "  [theme=dark] .colab-df-quickchart:hover {\n",
              "    background-color: #434B5C;\n",
              "    box-shadow: 0px 1px 3px 1px rgba(0, 0, 0, 0.15);\n",
              "    filter: drop-shadow(0px 1px 2px rgba(0, 0, 0, 0.3));\n",
              "    fill: #FFFFFF;\n",
              "  }\n",
              "</style>\n",
              "\n",
              "    <script>\n",
              "      async function quickchart(key) {\n",
              "        const containerElement = document.querySelector('#' + key);\n",
              "        const charts = await google.colab.kernel.invokeFunction(\n",
              "            'suggestCharts', [key], {});\n",
              "      }\n",
              "    </script>\n",
              "\n",
              "      <script>\n",
              "\n",
              "function displayQuickchartButton(domScope) {\n",
              "  let quickchartButtonEl =\n",
              "    domScope.querySelector('#df-71b02c62-fff1-4a1c-ad55-5cf3fd07e836 button.colab-df-quickchart');\n",
              "  quickchartButtonEl.style.display =\n",
              "    google.colab.kernel.accessAllowed ? 'block' : 'none';\n",
              "}\n",
              "\n",
              "        displayQuickchartButton(document);\n",
              "      </script>\n",
              "      <style>\n",
              "    .colab-df-container {\n",
              "      display:flex;\n",
              "      flex-wrap:wrap;\n",
              "      gap: 12px;\n",
              "    }\n",
              "\n",
              "    .colab-df-convert {\n",
              "      background-color: #E8F0FE;\n",
              "      border: none;\n",
              "      border-radius: 50%;\n",
              "      cursor: pointer;\n",
              "      display: none;\n",
              "      fill: #1967D2;\n",
              "      height: 32px;\n",
              "      padding: 0 0 0 0;\n",
              "      width: 32px;\n",
              "    }\n",
              "\n",
              "    .colab-df-convert:hover {\n",
              "      background-color: #E2EBFA;\n",
              "      box-shadow: 0px 1px 2px rgba(60, 64, 67, 0.3), 0px 1px 3px 1px rgba(60, 64, 67, 0.15);\n",
              "      fill: #174EA6;\n",
              "    }\n",
              "\n",
              "    [theme=dark] .colab-df-convert {\n",
              "      background-color: #3B4455;\n",
              "      fill: #D2E3FC;\n",
              "    }\n",
              "\n",
              "    [theme=dark] .colab-df-convert:hover {\n",
              "      background-color: #434B5C;\n",
              "      box-shadow: 0px 1px 3px 1px rgba(0, 0, 0, 0.15);\n",
              "      filter: drop-shadow(0px 1px 2px rgba(0, 0, 0, 0.3));\n",
              "      fill: #FFFFFF;\n",
              "    }\n",
              "  </style>\n",
              "\n",
              "      <script>\n",
              "        const buttonEl =\n",
              "          document.querySelector('#df-f43ec094-c4c9-468c-8e79-401839c36093 button.colab-df-convert');\n",
              "        buttonEl.style.display =\n",
              "          google.colab.kernel.accessAllowed ? 'block' : 'none';\n",
              "\n",
              "        async function convertToInteractive(key) {\n",
              "          const element = document.querySelector('#df-f43ec094-c4c9-468c-8e79-401839c36093');\n",
              "          const dataTable =\n",
              "            await google.colab.kernel.invokeFunction('convertToInteractive',\n",
              "                                                     [key], {});\n",
              "          if (!dataTable) return;\n",
              "\n",
              "          const docLinkHtml = 'Like what you see? Visit the ' +\n",
              "            '<a target=\"_blank\" href=https://colab.research.google.com/notebooks/data_table.ipynb>data table notebook</a>'\n",
              "            + ' to learn more about interactive tables.';\n",
              "          element.innerHTML = '';\n",
              "          dataTable['output_type'] = 'display_data';\n",
              "          await google.colab.output.renderOutput(dataTable, element);\n",
              "          const docLink = document.createElement('div');\n",
              "          docLink.innerHTML = docLinkHtml;\n",
              "          element.appendChild(docLink);\n",
              "        }\n",
              "      </script>\n",
              "    </div>\n",
              "  </div>\n"
            ]
          },
          "metadata": {},
          "execution_count": 70
        }
      ]
    },
    {
      "cell_type": "markdown",
      "source": [
        "#Train test Split\n",
        "\n"
      ],
      "metadata": {
        "id": "u0mDVheP4ocd"
      }
    },
    {
      "cell_type": "code",
      "source": [
        "train_df, test_df = train_test_split(image_df,train_size=0.7,shuffle=True,random_state=2)"
      ],
      "metadata": {
        "id": "Nbf7A2j44jhe"
      },
      "execution_count": 72,
      "outputs": []
    },
    {
      "cell_type": "code",
      "source": [
        "import tensorflow as tf\n",
        "\n",
        "train_generator = tf.keras.preprocessing.image.ImageDataGenerator(\n",
        "    preprocessing_function=tf.keras.applications.mobilenet_v2.preprocess_input,\n",
        "    validation_split=0.2\n",
        ")\n",
        "\n",
        "test_generator = tf.keras.preprocessing.image.ImageDataGenerator(\n",
        "    preprocessing_function=tf.keras.applications.mobilenet_v2.preprocess_input\n",
        ")\n"
      ],
      "metadata": {
        "id": "Y6jH3_PC4ydA"
      },
      "execution_count": 73,
      "outputs": []
    },
    {
      "cell_type": "code",
      "source": [
        "train_images=train_generator.flow_from_dataframe(\n",
        "    dataframe=train_df,\n",
        "    x_col=\"Filepath\",\n",
        "    y_col=\"Label\",\n",
        "    target_size=(224,224),\n",
        "    color_mode=\"rgb\",\n",
        "    class_mode=\"categorical\",\n",
        "    batch_size=32,\n",
        "    shuffle=True,\n",
        "    seed=42,\n",
        "    subset=\"training\"\n",
        ")\n",
        "val_images=train_generator.flow_from_dataframe(\n",
        "    dataframe=train_df,\n",
        "    x_col=\"Filepath\",\n",
        "    y_col=\"Label\",\n",
        "    target_size=(224,224),\n",
        "    color_mode=\"rgb\",\n",
        "    class_mode=\"categorical\",\n",
        "    batch_size=32,\n",
        "    shuffle=True,\n",
        "    seed=42,\n",
        "    subset=\"validation\"\n",
        ")\n",
        "test_images=test_generator.flow_from_dataframe(\n",
        "    dataframe=test_df,\n",
        "    x_col=\"Filepath\",\n",
        "    y_col=\"Label\",\n",
        "    target_size=(224,224),\n",
        "    color_mode=\"rgb\",\n",
        "    class_mode=\"categorical\",\n",
        "    batch_size=32,\n",
        "    shuffle=False\n",
        ")\n"
      ],
      "metadata": {
        "colab": {
          "base_uri": "https://localhost:8080/"
        },
        "id": "sQexII_j5FAM",
        "outputId": "40ec998d-197c-4ca8-bfd2-9e29891660f0"
      },
      "execution_count": 74,
      "outputs": [
        {
          "output_type": "stream",
          "name": "stdout",
          "text": [
            "Found 16968 validated image filenames belonging to 101 classes.\n",
            "Found 4242 validated image filenames belonging to 101 classes.\n",
            "Found 9090 validated image filenames belonging to 101 classes.\n"
          ]
        }
      ]
    },
    {
      "cell_type": "markdown",
      "source": [
        "#Model MobileNetV2\n",
        "\n"
      ],
      "metadata": {
        "id": "oHwYBUmL6Ekx"
      }
    },
    {
      "cell_type": "code",
      "source": [
        "pretrained_model=tf.keras.applications.MobileNetV2(\n",
        "    input_shape=(224,224,3),\n",
        "    include_top=False,\n",
        "    weights=\"imagenet\",\n",
        "    pooling=\"avg\"\n",
        ")\n",
        "pretrained_model.trainable=False"
      ],
      "metadata": {
        "id": "ArDDjWNL5vTi"
      },
      "execution_count": 75,
      "outputs": []
    },
    {
      "cell_type": "code",
      "source": [
        " inputs=pretrained_model.input\n",
        "\n",
        " x=tf.keras.layers.Dense(129,activation=\"relu\")(pretrained_model.output)\n",
        " x=tf.keras.layers.Dense(129,activation=\"relu\")(x)\n",
        "\n",
        "outputs= tf.keras.layers.Dense(101,activation=\"softmax\")(x)\n",
        "model = tf.keras.Model(inputs,outputs)"
      ],
      "metadata": {
        "id": "07TtqSxo6a3v"
      },
      "execution_count": 76,
      "outputs": []
    },
    {
      "cell_type": "markdown",
      "source": [
        "#Training"
      ],
      "metadata": {
        "id": "vTro96bS7VP_"
      }
    },
    {
      "cell_type": "code",
      "source": [
        "model.compile(\n",
        "    optimizer=\"adam\",\n",
        "    loss=\"categorical_crossentropy\",\n",
        "    metrics=[\"accuracy\"]\n",
        ")\n",
        "history=model.fit(\n",
        "    train_images,\n",
        "    validation_data=val_images,\n",
        "    epochs=100,\n",
        "    callbacks=[\n",
        "        tf.keras.callbacks.EarlyStopping(\n",
        "            monitor=\"val_loss\",\n",
        "            patience=10,\n",
        "            restore_best_weights=True\n",
        "        )\n",
        "    ]\n",
        ")"
      ],
      "metadata": {
        "colab": {
          "base_uri": "https://localhost:8080/",
          "height": 834
        },
        "id": "cMpKwPCP6-uD",
        "outputId": "e15220ef-262f-44b7-ec98-b7c8defbbfb8"
      },
      "execution_count": 77,
      "outputs": [
        {
          "output_type": "stream",
          "name": "stdout",
          "text": [
            "Epoch 1/100\n",
            "531/531 [==============================] - 142s 259ms/step - loss: 2.9879 - accuracy: 0.2923 - val_loss: 2.2771 - val_accuracy: 0.4246\n",
            "Epoch 2/100\n",
            "531/531 [==============================] - 116s 219ms/step - loss: 1.9610 - accuracy: 0.4930 - val_loss: 2.0977 - val_accuracy: 0.4776\n",
            "Epoch 3/100\n",
            "531/531 [==============================] - 115s 217ms/step - loss: 1.6271 - accuracy: 0.5686 - val_loss: 2.0221 - val_accuracy: 0.4868\n",
            "Epoch 4/100\n",
            "531/531 [==============================] - 114s 214ms/step - loss: 1.3958 - accuracy: 0.6228 - val_loss: 2.1528 - val_accuracy: 0.4776\n",
            "Epoch 5/100\n",
            "531/531 [==============================] - 112s 211ms/step - loss: 1.2001 - accuracy: 0.6688 - val_loss: 2.1347 - val_accuracy: 0.4785\n",
            "Epoch 6/100\n",
            "531/531 [==============================] - 112s 211ms/step - loss: 1.0141 - accuracy: 0.7162 - val_loss: 2.2125 - val_accuracy: 0.4861\n",
            "Epoch 7/100\n",
            "531/531 [==============================] - 113s 213ms/step - loss: 0.8645 - accuracy: 0.7532 - val_loss: 2.3666 - val_accuracy: 0.4781\n",
            "Epoch 8/100\n",
            "531/531 [==============================] - 132s 248ms/step - loss: 0.7106 - accuracy: 0.7937 - val_loss: 2.4784 - val_accuracy: 0.4715\n",
            "Epoch 9/100\n",
            "531/531 [==============================] - 117s 219ms/step - loss: 0.5790 - accuracy: 0.8327 - val_loss: 2.5275 - val_accuracy: 0.4851\n",
            "Epoch 10/100\n",
            "531/531 [==============================] - 123s 231ms/step - loss: 0.4783 - accuracy: 0.8601 - val_loss: 2.7505 - val_accuracy: 0.4717\n",
            "Epoch 11/100\n",
            "531/531 [==============================] - 116s 219ms/step - loss: 0.3892 - accuracy: 0.8891 - val_loss: 2.9946 - val_accuracy: 0.4736\n",
            "Epoch 12/100\n",
            "531/531 [==============================] - ETA: 0s - loss: 0.3172 - accuracy: 0.9079"
          ]
        },
        {
          "output_type": "error",
          "ename": "KeyboardInterrupt",
          "evalue": "ignored",
          "traceback": [
            "\u001b[0;31m---------------------------------------------------------------------------\u001b[0m",
            "\u001b[0;31mKeyboardInterrupt\u001b[0m                         Traceback (most recent call last)",
            "\u001b[0;32m<ipython-input-77-b5036a35626d>\u001b[0m in \u001b[0;36m<cell line: 6>\u001b[0;34m()\u001b[0m\n\u001b[1;32m      4\u001b[0m     \u001b[0mmetrics\u001b[0m\u001b[0;34m=\u001b[0m\u001b[0;34m[\u001b[0m\u001b[0;34m\"accuracy\"\u001b[0m\u001b[0;34m]\u001b[0m\u001b[0;34m\u001b[0m\u001b[0;34m\u001b[0m\u001b[0m\n\u001b[1;32m      5\u001b[0m )\n\u001b[0;32m----> 6\u001b[0;31m history=model.fit(\n\u001b[0m\u001b[1;32m      7\u001b[0m     \u001b[0mtrain_images\u001b[0m\u001b[0;34m,\u001b[0m\u001b[0;34m\u001b[0m\u001b[0;34m\u001b[0m\u001b[0m\n\u001b[1;32m      8\u001b[0m     \u001b[0mvalidation_data\u001b[0m\u001b[0;34m=\u001b[0m\u001b[0mval_images\u001b[0m\u001b[0;34m,\u001b[0m\u001b[0;34m\u001b[0m\u001b[0;34m\u001b[0m\u001b[0m\n",
            "\u001b[0;32m/usr/local/lib/python3.10/dist-packages/keras/utils/traceback_utils.py\u001b[0m in \u001b[0;36merror_handler\u001b[0;34m(*args, **kwargs)\u001b[0m\n\u001b[1;32m     63\u001b[0m         \u001b[0mfiltered_tb\u001b[0m \u001b[0;34m=\u001b[0m \u001b[0;32mNone\u001b[0m\u001b[0;34m\u001b[0m\u001b[0;34m\u001b[0m\u001b[0m\n\u001b[1;32m     64\u001b[0m         \u001b[0;32mtry\u001b[0m\u001b[0;34m:\u001b[0m\u001b[0;34m\u001b[0m\u001b[0;34m\u001b[0m\u001b[0m\n\u001b[0;32m---> 65\u001b[0;31m             \u001b[0;32mreturn\u001b[0m \u001b[0mfn\u001b[0m\u001b[0;34m(\u001b[0m\u001b[0;34m*\u001b[0m\u001b[0margs\u001b[0m\u001b[0;34m,\u001b[0m \u001b[0;34m**\u001b[0m\u001b[0mkwargs\u001b[0m\u001b[0;34m)\u001b[0m\u001b[0;34m\u001b[0m\u001b[0;34m\u001b[0m\u001b[0m\n\u001b[0m\u001b[1;32m     66\u001b[0m         \u001b[0;32mexcept\u001b[0m \u001b[0mException\u001b[0m \u001b[0;32mas\u001b[0m \u001b[0me\u001b[0m\u001b[0;34m:\u001b[0m\u001b[0;34m\u001b[0m\u001b[0;34m\u001b[0m\u001b[0m\n\u001b[1;32m     67\u001b[0m             \u001b[0mfiltered_tb\u001b[0m \u001b[0;34m=\u001b[0m \u001b[0m_process_traceback_frames\u001b[0m\u001b[0;34m(\u001b[0m\u001b[0me\u001b[0m\u001b[0;34m.\u001b[0m\u001b[0m__traceback__\u001b[0m\u001b[0;34m)\u001b[0m\u001b[0;34m\u001b[0m\u001b[0;34m\u001b[0m\u001b[0m\n",
            "\u001b[0;32m/usr/local/lib/python3.10/dist-packages/keras/engine/training.py\u001b[0m in \u001b[0;36mfit\u001b[0;34m(self, x, y, batch_size, epochs, verbose, callbacks, validation_split, validation_data, shuffle, class_weight, sample_weight, initial_epoch, steps_per_epoch, validation_steps, validation_batch_size, validation_freq, max_queue_size, workers, use_multiprocessing)\u001b[0m\n\u001b[1;32m   1727\u001b[0m                             \u001b[0msteps_per_execution\u001b[0m\u001b[0;34m=\u001b[0m\u001b[0mself\u001b[0m\u001b[0;34m.\u001b[0m\u001b[0m_steps_per_execution\u001b[0m\u001b[0;34m,\u001b[0m\u001b[0;34m\u001b[0m\u001b[0;34m\u001b[0m\u001b[0m\n\u001b[1;32m   1728\u001b[0m                         )\n\u001b[0;32m-> 1729\u001b[0;31m                     val_logs = self.evaluate(\n\u001b[0m\u001b[1;32m   1730\u001b[0m                         \u001b[0mx\u001b[0m\u001b[0;34m=\u001b[0m\u001b[0mval_x\u001b[0m\u001b[0;34m,\u001b[0m\u001b[0;34m\u001b[0m\u001b[0;34m\u001b[0m\u001b[0m\n\u001b[1;32m   1731\u001b[0m                         \u001b[0my\u001b[0m\u001b[0;34m=\u001b[0m\u001b[0mval_y\u001b[0m\u001b[0;34m,\u001b[0m\u001b[0;34m\u001b[0m\u001b[0;34m\u001b[0m\u001b[0m\n",
            "\u001b[0;32m/usr/local/lib/python3.10/dist-packages/keras/utils/traceback_utils.py\u001b[0m in \u001b[0;36merror_handler\u001b[0;34m(*args, **kwargs)\u001b[0m\n\u001b[1;32m     63\u001b[0m         \u001b[0mfiltered_tb\u001b[0m \u001b[0;34m=\u001b[0m \u001b[0;32mNone\u001b[0m\u001b[0;34m\u001b[0m\u001b[0;34m\u001b[0m\u001b[0m\n\u001b[1;32m     64\u001b[0m         \u001b[0;32mtry\u001b[0m\u001b[0;34m:\u001b[0m\u001b[0;34m\u001b[0m\u001b[0;34m\u001b[0m\u001b[0m\n\u001b[0;32m---> 65\u001b[0;31m             \u001b[0;32mreturn\u001b[0m \u001b[0mfn\u001b[0m\u001b[0;34m(\u001b[0m\u001b[0;34m*\u001b[0m\u001b[0margs\u001b[0m\u001b[0;34m,\u001b[0m \u001b[0;34m**\u001b[0m\u001b[0mkwargs\u001b[0m\u001b[0;34m)\u001b[0m\u001b[0;34m\u001b[0m\u001b[0;34m\u001b[0m\u001b[0m\n\u001b[0m\u001b[1;32m     66\u001b[0m         \u001b[0;32mexcept\u001b[0m \u001b[0mException\u001b[0m \u001b[0;32mas\u001b[0m \u001b[0me\u001b[0m\u001b[0;34m:\u001b[0m\u001b[0;34m\u001b[0m\u001b[0;34m\u001b[0m\u001b[0m\n\u001b[1;32m     67\u001b[0m             \u001b[0mfiltered_tb\u001b[0m \u001b[0;34m=\u001b[0m \u001b[0m_process_traceback_frames\u001b[0m\u001b[0;34m(\u001b[0m\u001b[0me\u001b[0m\u001b[0;34m.\u001b[0m\u001b[0m__traceback__\u001b[0m\u001b[0;34m)\u001b[0m\u001b[0;34m\u001b[0m\u001b[0;34m\u001b[0m\u001b[0m\n",
            "\u001b[0;32m/usr/local/lib/python3.10/dist-packages/keras/engine/training.py\u001b[0m in \u001b[0;36mevaluate\u001b[0;34m(self, x, y, batch_size, verbose, sample_weight, steps, callbacks, max_queue_size, workers, use_multiprocessing, return_dict, **kwargs)\u001b[0m\n\u001b[1;32m   2070\u001b[0m                         ):\n\u001b[1;32m   2071\u001b[0m                             \u001b[0mcallbacks\u001b[0m\u001b[0;34m.\u001b[0m\u001b[0mon_test_batch_begin\u001b[0m\u001b[0;34m(\u001b[0m\u001b[0mstep\u001b[0m\u001b[0;34m)\u001b[0m\u001b[0;34m\u001b[0m\u001b[0;34m\u001b[0m\u001b[0m\n\u001b[0;32m-> 2072\u001b[0;31m                             \u001b[0mtmp_logs\u001b[0m \u001b[0;34m=\u001b[0m \u001b[0mself\u001b[0m\u001b[0;34m.\u001b[0m\u001b[0mtest_function\u001b[0m\u001b[0;34m(\u001b[0m\u001b[0miterator\u001b[0m\u001b[0;34m)\u001b[0m\u001b[0;34m\u001b[0m\u001b[0;34m\u001b[0m\u001b[0m\n\u001b[0m\u001b[1;32m   2073\u001b[0m                             \u001b[0;32mif\u001b[0m \u001b[0mdata_handler\u001b[0m\u001b[0;34m.\u001b[0m\u001b[0mshould_sync\u001b[0m\u001b[0;34m:\u001b[0m\u001b[0;34m\u001b[0m\u001b[0;34m\u001b[0m\u001b[0m\n\u001b[1;32m   2074\u001b[0m                                 \u001b[0mcontext\u001b[0m\u001b[0;34m.\u001b[0m\u001b[0masync_wait\u001b[0m\u001b[0;34m(\u001b[0m\u001b[0;34m)\u001b[0m\u001b[0;34m\u001b[0m\u001b[0;34m\u001b[0m\u001b[0m\n",
            "\u001b[0;32m/usr/local/lib/python3.10/dist-packages/tensorflow/python/util/traceback_utils.py\u001b[0m in \u001b[0;36merror_handler\u001b[0;34m(*args, **kwargs)\u001b[0m\n\u001b[1;32m    148\u001b[0m     \u001b[0mfiltered_tb\u001b[0m \u001b[0;34m=\u001b[0m \u001b[0;32mNone\u001b[0m\u001b[0;34m\u001b[0m\u001b[0;34m\u001b[0m\u001b[0m\n\u001b[1;32m    149\u001b[0m     \u001b[0;32mtry\u001b[0m\u001b[0;34m:\u001b[0m\u001b[0;34m\u001b[0m\u001b[0;34m\u001b[0m\u001b[0m\n\u001b[0;32m--> 150\u001b[0;31m       \u001b[0;32mreturn\u001b[0m \u001b[0mfn\u001b[0m\u001b[0;34m(\u001b[0m\u001b[0;34m*\u001b[0m\u001b[0margs\u001b[0m\u001b[0;34m,\u001b[0m \u001b[0;34m**\u001b[0m\u001b[0mkwargs\u001b[0m\u001b[0;34m)\u001b[0m\u001b[0;34m\u001b[0m\u001b[0;34m\u001b[0m\u001b[0m\n\u001b[0m\u001b[1;32m    151\u001b[0m     \u001b[0;32mexcept\u001b[0m \u001b[0mException\u001b[0m \u001b[0;32mas\u001b[0m \u001b[0me\u001b[0m\u001b[0;34m:\u001b[0m\u001b[0;34m\u001b[0m\u001b[0;34m\u001b[0m\u001b[0m\n\u001b[1;32m    152\u001b[0m       \u001b[0mfiltered_tb\u001b[0m \u001b[0;34m=\u001b[0m \u001b[0m_process_traceback_frames\u001b[0m\u001b[0;34m(\u001b[0m\u001b[0me\u001b[0m\u001b[0;34m.\u001b[0m\u001b[0m__traceback__\u001b[0m\u001b[0;34m)\u001b[0m\u001b[0;34m\u001b[0m\u001b[0;34m\u001b[0m\u001b[0m\n",
            "\u001b[0;32m/usr/local/lib/python3.10/dist-packages/tensorflow/python/eager/polymorphic_function/polymorphic_function.py\u001b[0m in \u001b[0;36m__call__\u001b[0;34m(self, *args, **kwds)\u001b[0m\n\u001b[1;32m    892\u001b[0m \u001b[0;34m\u001b[0m\u001b[0m\n\u001b[1;32m    893\u001b[0m       \u001b[0;32mwith\u001b[0m \u001b[0mOptionalXlaContext\u001b[0m\u001b[0;34m(\u001b[0m\u001b[0mself\u001b[0m\u001b[0;34m.\u001b[0m\u001b[0m_jit_compile\u001b[0m\u001b[0;34m)\u001b[0m\u001b[0;34m:\u001b[0m\u001b[0;34m\u001b[0m\u001b[0;34m\u001b[0m\u001b[0m\n\u001b[0;32m--> 894\u001b[0;31m         \u001b[0mresult\u001b[0m \u001b[0;34m=\u001b[0m \u001b[0mself\u001b[0m\u001b[0;34m.\u001b[0m\u001b[0m_call\u001b[0m\u001b[0;34m(\u001b[0m\u001b[0;34m*\u001b[0m\u001b[0margs\u001b[0m\u001b[0;34m,\u001b[0m \u001b[0;34m**\u001b[0m\u001b[0mkwds\u001b[0m\u001b[0;34m)\u001b[0m\u001b[0;34m\u001b[0m\u001b[0;34m\u001b[0m\u001b[0m\n\u001b[0m\u001b[1;32m    895\u001b[0m \u001b[0;34m\u001b[0m\u001b[0m\n\u001b[1;32m    896\u001b[0m       \u001b[0mnew_tracing_count\u001b[0m \u001b[0;34m=\u001b[0m \u001b[0mself\u001b[0m\u001b[0;34m.\u001b[0m\u001b[0mexperimental_get_tracing_count\u001b[0m\u001b[0;34m(\u001b[0m\u001b[0;34m)\u001b[0m\u001b[0;34m\u001b[0m\u001b[0;34m\u001b[0m\u001b[0m\n",
            "\u001b[0;32m/usr/local/lib/python3.10/dist-packages/tensorflow/python/eager/polymorphic_function/polymorphic_function.py\u001b[0m in \u001b[0;36m_call\u001b[0;34m(self, *args, **kwds)\u001b[0m\n\u001b[1;32m    931\u001b[0m       \u001b[0;31m# In this case we have not created variables on the first call. So we can\u001b[0m\u001b[0;34m\u001b[0m\u001b[0;34m\u001b[0m\u001b[0m\n\u001b[1;32m    932\u001b[0m       \u001b[0;31m# run the first trace but we should fail if variables are created.\u001b[0m\u001b[0;34m\u001b[0m\u001b[0;34m\u001b[0m\u001b[0m\n\u001b[0;32m--> 933\u001b[0;31m       \u001b[0mresults\u001b[0m \u001b[0;34m=\u001b[0m \u001b[0mself\u001b[0m\u001b[0;34m.\u001b[0m\u001b[0m_variable_creation_fn\u001b[0m\u001b[0;34m(\u001b[0m\u001b[0;34m*\u001b[0m\u001b[0margs\u001b[0m\u001b[0;34m,\u001b[0m \u001b[0;34m**\u001b[0m\u001b[0mkwds\u001b[0m\u001b[0;34m)\u001b[0m\u001b[0;34m\u001b[0m\u001b[0;34m\u001b[0m\u001b[0m\n\u001b[0m\u001b[1;32m    934\u001b[0m       \u001b[0;32mif\u001b[0m \u001b[0mself\u001b[0m\u001b[0;34m.\u001b[0m\u001b[0m_created_variables\u001b[0m \u001b[0;32mand\u001b[0m \u001b[0;32mnot\u001b[0m \u001b[0mALLOW_DYNAMIC_VARIABLE_CREATION\u001b[0m\u001b[0;34m:\u001b[0m\u001b[0;34m\u001b[0m\u001b[0;34m\u001b[0m\u001b[0m\n\u001b[1;32m    935\u001b[0m         raise ValueError(\"Creating variables on a non-first call to a function\"\n",
            "\u001b[0;32m/usr/local/lib/python3.10/dist-packages/tensorflow/python/eager/polymorphic_function/tracing_compiler.py\u001b[0m in \u001b[0;36m__call__\u001b[0;34m(self, *args, **kwargs)\u001b[0m\n\u001b[1;32m    141\u001b[0m       (concrete_function,\n\u001b[1;32m    142\u001b[0m        filtered_flat_args) = self._maybe_define_function(args, kwargs)\n\u001b[0;32m--> 143\u001b[0;31m     return concrete_function._call_flat(\n\u001b[0m\u001b[1;32m    144\u001b[0m         filtered_flat_args, captured_inputs=concrete_function.captured_inputs)  # pylint: disable=protected-access\n\u001b[1;32m    145\u001b[0m \u001b[0;34m\u001b[0m\u001b[0m\n",
            "\u001b[0;32m/usr/local/lib/python3.10/dist-packages/tensorflow/python/eager/polymorphic_function/monomorphic_function.py\u001b[0m in \u001b[0;36m_call_flat\u001b[0;34m(self, args, captured_inputs, cancellation_manager)\u001b[0m\n\u001b[1;32m   1755\u001b[0m         and executing_eagerly):\n\u001b[1;32m   1756\u001b[0m       \u001b[0;31m# No tape is watching; skip to running the function.\u001b[0m\u001b[0;34m\u001b[0m\u001b[0;34m\u001b[0m\u001b[0m\n\u001b[0;32m-> 1757\u001b[0;31m       return self._build_call_outputs(self._inference_function.call(\n\u001b[0m\u001b[1;32m   1758\u001b[0m           ctx, args, cancellation_manager=cancellation_manager))\n\u001b[1;32m   1759\u001b[0m     forward_backward = self._select_forward_and_backward_functions(\n",
            "\u001b[0;32m/usr/local/lib/python3.10/dist-packages/tensorflow/python/eager/polymorphic_function/monomorphic_function.py\u001b[0m in \u001b[0;36mcall\u001b[0;34m(self, ctx, args, cancellation_manager)\u001b[0m\n\u001b[1;32m    379\u001b[0m       \u001b[0;32mwith\u001b[0m \u001b[0m_InterpolateFunctionError\u001b[0m\u001b[0;34m(\u001b[0m\u001b[0mself\u001b[0m\u001b[0;34m)\u001b[0m\u001b[0;34m:\u001b[0m\u001b[0;34m\u001b[0m\u001b[0;34m\u001b[0m\u001b[0m\n\u001b[1;32m    380\u001b[0m         \u001b[0;32mif\u001b[0m \u001b[0mcancellation_manager\u001b[0m \u001b[0;32mis\u001b[0m \u001b[0;32mNone\u001b[0m\u001b[0;34m:\u001b[0m\u001b[0;34m\u001b[0m\u001b[0;34m\u001b[0m\u001b[0m\n\u001b[0;32m--> 381\u001b[0;31m           outputs = execute.execute(\n\u001b[0m\u001b[1;32m    382\u001b[0m               \u001b[0mstr\u001b[0m\u001b[0;34m(\u001b[0m\u001b[0mself\u001b[0m\u001b[0;34m.\u001b[0m\u001b[0msignature\u001b[0m\u001b[0;34m.\u001b[0m\u001b[0mname\u001b[0m\u001b[0;34m)\u001b[0m\u001b[0;34m,\u001b[0m\u001b[0;34m\u001b[0m\u001b[0;34m\u001b[0m\u001b[0m\n\u001b[1;32m    383\u001b[0m               \u001b[0mnum_outputs\u001b[0m\u001b[0;34m=\u001b[0m\u001b[0mself\u001b[0m\u001b[0;34m.\u001b[0m\u001b[0m_num_outputs\u001b[0m\u001b[0;34m,\u001b[0m\u001b[0;34m\u001b[0m\u001b[0;34m\u001b[0m\u001b[0m\n",
            "\u001b[0;32m/usr/local/lib/python3.10/dist-packages/tensorflow/python/eager/execute.py\u001b[0m in \u001b[0;36mquick_execute\u001b[0;34m(op_name, num_outputs, inputs, attrs, ctx, name)\u001b[0m\n\u001b[1;32m     50\u001b[0m   \u001b[0;32mtry\u001b[0m\u001b[0;34m:\u001b[0m\u001b[0;34m\u001b[0m\u001b[0;34m\u001b[0m\u001b[0m\n\u001b[1;32m     51\u001b[0m     \u001b[0mctx\u001b[0m\u001b[0;34m.\u001b[0m\u001b[0mensure_initialized\u001b[0m\u001b[0;34m(\u001b[0m\u001b[0;34m)\u001b[0m\u001b[0;34m\u001b[0m\u001b[0;34m\u001b[0m\u001b[0m\n\u001b[0;32m---> 52\u001b[0;31m     tensors = pywrap_tfe.TFE_Py_Execute(ctx._handle, device_name, op_name,\n\u001b[0m\u001b[1;32m     53\u001b[0m                                         inputs, attrs, num_outputs)\n\u001b[1;32m     54\u001b[0m   \u001b[0;32mexcept\u001b[0m \u001b[0mcore\u001b[0m\u001b[0;34m.\u001b[0m\u001b[0m_NotOkStatusException\u001b[0m \u001b[0;32mas\u001b[0m \u001b[0me\u001b[0m\u001b[0;34m:\u001b[0m\u001b[0;34m\u001b[0m\u001b[0;34m\u001b[0m\u001b[0m\n",
            "\u001b[0;31mKeyboardInterrupt\u001b[0m: "
          ]
        }
      ]
    },
    {
      "cell_type": "markdown",
      "source": [
        "#Result 1\n"
      ],
      "metadata": {
        "id": "ezx6jWIE7xiT"
      }
    },
    {
      "cell_type": "code",
      "source": [
        "results = model.evaluate(test_images,verbose=0)\n",
        "print(\"Test Accuracy: {:.2f}%\".format(results[1]*100))"
      ],
      "metadata": {
        "id": "0SMJH8JG7umb"
      },
      "execution_count": null,
      "outputs": []
    },
    {
      "cell_type": "code",
      "source": [
        "predictions=np.argmax(model.predict(test_images),axis=1)\n",
        "\n",
        "cm = confusion_matrix(test_images.labels,predictions)\n",
        "clr = classification_report(test_images.labels,predictions,target_names=test_images.class_indices)"
      ],
      "metadata": {
        "id": "sRi_pWSW7-B6"
      },
      "execution_count": null,
      "outputs": []
    },
    {
      "cell_type": "code",
      "source": [
        "plt.figure(figsize=(30,30))\n",
        "sns.heatmap(cm,annot=True,fmt=\"g\",vmin=0,cmap=\"Blues\",cbar=False,rotation=90)\n",
        "plt.xticks(ticks=np.arange(101)+0.5,labels=test_images.class_indices)\n",
        "plt.xlabel(\"predicted\")\n",
        "plt.ylabel(\"actual\")\n",
        "plt.title(\"confusion matrix\")\n",
        "plt.show()\n"
      ],
      "metadata": {
        "colab": {
          "base_uri": "https://localhost:8080/",
          "height": 1000
        },
        "id": "jOunFdL-8aBu",
        "outputId": "b9a74aab-17e1-4df7-9d53-95a67516b952"
      },
      "execution_count": 65,
      "outputs": [
        {
          "output_type": "execute_result",
          "data": {
            "text/plain": [
              "([<matplotlib.axis.XTick at 0x7cc108313e50>,\n",
              "  <matplotlib.axis.XTick at 0x7cc108313e20>,\n",
              "  <matplotlib.axis.XTick at 0x7cc10838bbe0>,\n",
              "  <matplotlib.axis.XTick at 0x7cc10838be20>,\n",
              "  <matplotlib.axis.XTick at 0x7cc1081acb50>,\n",
              "  <matplotlib.axis.XTick at 0x7cc1081ad330>,\n",
              "  <matplotlib.axis.XTick at 0x7cc1081adb10>,\n",
              "  <matplotlib.axis.XTick at 0x7cc1081ae2f0>,\n",
              "  <matplotlib.axis.XTick at 0x7cc1081ad900>,\n",
              "  <matplotlib.axis.XTick at 0x7cc1081ac250>,\n",
              "  <matplotlib.axis.XTick at 0x7cc1081aec80>,\n",
              "  <matplotlib.axis.XTick at 0x7cc1081af460>,\n",
              "  <matplotlib.axis.XTick at 0x7cc1081afc40>,\n",
              "  <matplotlib.axis.XTick at 0x7cc1081af2e0>,\n",
              "  <matplotlib.axis.XTick at 0x7cc1081ad4e0>,\n",
              "  <matplotlib.axis.XTick at 0x7cc1081dc6a0>,\n",
              "  <matplotlib.axis.XTick at 0x7cc1081dce80>,\n",
              "  <matplotlib.axis.XTick at 0x7cc1081dd660>,\n",
              "  <matplotlib.axis.XTick at 0x7cc1081aee30>,\n",
              "  <matplotlib.axis.XTick at 0x7cc1081dd030>,\n",
              "  <matplotlib.axis.XTick at 0x7cc1081de080>,\n",
              "  <matplotlib.axis.XTick at 0x7cc1081de860>,\n",
              "  <matplotlib.axis.XTick at 0x7cc1081df040>,\n",
              "  <matplotlib.axis.XTick at 0x7cc1081df820>,\n",
              "  <matplotlib.axis.XTick at 0x7cc1081de6e0>,\n",
              "  <matplotlib.axis.XTick at 0x7cc1081df9d0>,\n",
              "  <matplotlib.axis.XTick at 0x7cc1081de3b0>,\n",
              "  <matplotlib.axis.XTick at 0x7cc10820c9d0>,\n",
              "  <matplotlib.axis.XTick at 0x7cc10820d1b0>,\n",
              "  <matplotlib.axis.XTick at 0x7cc1081dded0>,\n",
              "  <matplotlib.axis.XTick at 0x7cc10820c790>,\n",
              "  <matplotlib.axis.XTick at 0x7cc10820db40>,\n",
              "  <matplotlib.axis.XTick at 0x7cc10820e320>,\n",
              "  <matplotlib.axis.XTick at 0x7cc10820eb00>,\n",
              "  <matplotlib.axis.XTick at 0x7cc1081dfb50>,\n",
              "  <matplotlib.axis.XTick at 0x7cc10820dcc0>,\n",
              "  <matplotlib.axis.XTick at 0x7cc10820f520>,\n",
              "  <matplotlib.axis.XTick at 0x7cc10820fd00>,\n",
              "  <matplotlib.axis.XTick at 0x7cc108240520>,\n",
              "  <matplotlib.axis.XTick at 0x7cc108240d00>,\n",
              "  <matplotlib.axis.XTick at 0x7cc10820e0e0>,\n",
              "  <matplotlib.axis.XTick at 0x7cc108240eb0>,\n",
              "  <matplotlib.axis.XTick at 0x7cc108241690>,\n",
              "  <matplotlib.axis.XTick at 0x7cc108241e70>,\n",
              "  <matplotlib.axis.XTick at 0x7cc108242650>,\n",
              "  <matplotlib.axis.XTick at 0x7cc10820ff70>,\n",
              "  <matplotlib.axis.XTick at 0x7cc108241000>,\n",
              "  <matplotlib.axis.XTick at 0x7cc108242fe0>,\n",
              "  <matplotlib.axis.XTick at 0x7cc1082437c0>,\n",
              "  <matplotlib.axis.XTick at 0x7cc108243fa0>,\n",
              "  <matplotlib.axis.XTick at 0x7cc108243a60>,\n",
              "  <matplotlib.axis.XTick at 0x7cc108241c30>,\n",
              "  <matplotlib.axis.XTick at 0x7cc10825ca00>,\n",
              "  <matplotlib.axis.XTick at 0x7cc10825d1e0>,\n",
              "  <matplotlib.axis.XTick at 0x7cc10825d9c0>,\n",
              "  <matplotlib.axis.XTick at 0x7cc10825e1a0>,\n",
              "  <matplotlib.axis.XTick at 0x7cc10825d810>,\n",
              "  <matplotlib.axis.XTick at 0x7cc10825e350>,\n",
              "  <matplotlib.axis.XTick at 0x7cc10825eb30>,\n",
              "  <matplotlib.axis.XTick at 0x7cc10825f310>,\n",
              "  <matplotlib.axis.XTick at 0x7cc10825faf0>,\n",
              "  <matplotlib.axis.XTick at 0x7cc10825f580>,\n",
              "  <matplotlib.axis.XTick at 0x7cc10825cfa0>,\n",
              "  <matplotlib.axis.XTick at 0x7cc1082684c0>,\n",
              "  <matplotlib.axis.XTick at 0x7cc108268ca0>,\n",
              "  <matplotlib.axis.XTick at 0x7cc108269480>,\n",
              "  <matplotlib.axis.XTick at 0x7cc10825e5c0>,\n",
              "  <matplotlib.axis.XTick at 0x7cc108268e50>,\n",
              "  <matplotlib.axis.XTick at 0x7cc108269ea0>,\n",
              "  <matplotlib.axis.XTick at 0x7cc10826a680>,\n",
              "  <matplotlib.axis.XTick at 0x7cc10826ae60>,\n",
              "  <matplotlib.axis.XTick at 0x7cc10826b640>,\n",
              "  <matplotlib.axis.XTick at 0x7cc10825c5b0>,\n",
              "  <matplotlib.axis.XTick at 0x7cc10826b1f0>,\n",
              "  <matplotlib.axis.XTick at 0x7cc108269c90>,\n",
              "  <matplotlib.axis.XTick at 0x7cc10826ba30>,\n",
              "  <matplotlib.axis.XTick at 0x7cc108268760>,\n",
              "  <matplotlib.axis.XTick at 0x7cc10826b790>,\n",
              "  <matplotlib.axis.XTick at 0x7cc10820d420>,\n",
              "  <matplotlib.axis.XTick at 0x7cc103e14b20>,\n",
              "  <matplotlib.axis.XTick at 0x7cc103e15300>,\n",
              "  <matplotlib.axis.XTick at 0x7cc103e15ae0>,\n",
              "  <matplotlib.axis.XTick at 0x7cc103e162c0>,\n",
              "  <matplotlib.axis.XTick at 0x7cc103e15c90>,\n",
              "  <matplotlib.axis.XTick at 0x7cc103e16470>,\n",
              "  <matplotlib.axis.XTick at 0x7cc103e16c50>,\n",
              "  <matplotlib.axis.XTick at 0x7cc103e17430>,\n",
              "  <matplotlib.axis.XTick at 0x7cc103e17c10>,\n",
              "  <matplotlib.axis.XTick at 0x7cc103e16f80>,\n",
              "  <matplotlib.axis.XTick at 0x7cc103e15f60>,\n",
              "  <matplotlib.axis.XTick at 0x7cc103e385e0>,\n",
              "  <matplotlib.axis.XTick at 0x7cc103e38dc0>,\n",
              "  <matplotlib.axis.XTick at 0x7cc103e395a0>,\n",
              "  <matplotlib.axis.XTick at 0x7cc103e16a10>,\n",
              "  <matplotlib.axis.XTick at 0x7cc103e38b80>,\n",
              "  <matplotlib.axis.XTick at 0x7cc103e39fc0>,\n",
              "  <matplotlib.axis.XTick at 0x7cc103e3a7a0>,\n",
              "  <matplotlib.axis.XTick at 0x7cc103e3af80>,\n",
              "  <matplotlib.axis.XTick at 0x7cc103e3b760>,\n",
              "  <matplotlib.axis.XTick at 0x7cc103e3a620>,\n",
              "  <matplotlib.axis.XTick at 0x7cc103e3b910>],\n",
              " [Text(0.5, 0, 'apple_pie'),\n",
              "  Text(1.5, 0, 'baby_back_ribs'),\n",
              "  Text(2.5, 0, 'baklava'),\n",
              "  Text(3.5, 0, 'beef_carpaccio'),\n",
              "  Text(4.5, 0, 'beef_tartare'),\n",
              "  Text(5.5, 0, 'beet_salad'),\n",
              "  Text(6.5, 0, 'beignets'),\n",
              "  Text(7.5, 0, 'bibimbap'),\n",
              "  Text(8.5, 0, 'bread_pudding'),\n",
              "  Text(9.5, 0, 'breakfast_burrito'),\n",
              "  Text(10.5, 0, 'bruschetta'),\n",
              "  Text(11.5, 0, 'caesar_salad'),\n",
              "  Text(12.5, 0, 'cannoli'),\n",
              "  Text(13.5, 0, 'caprese_salad'),\n",
              "  Text(14.5, 0, 'carrot_cake'),\n",
              "  Text(15.5, 0, 'ceviche'),\n",
              "  Text(16.5, 0, 'cheese_plate'),\n",
              "  Text(17.5, 0, 'cheesecake'),\n",
              "  Text(18.5, 0, 'chicken_curry'),\n",
              "  Text(19.5, 0, 'chicken_quesadilla'),\n",
              "  Text(20.5, 0, 'chicken_wings'),\n",
              "  Text(21.5, 0, 'chocolate_cake'),\n",
              "  Text(22.5, 0, 'chocolate_mousse'),\n",
              "  Text(23.5, 0, 'churros'),\n",
              "  Text(24.5, 0, 'clam_chowder'),\n",
              "  Text(25.5, 0, 'club_sandwich'),\n",
              "  Text(26.5, 0, 'crab_cakes'),\n",
              "  Text(27.5, 0, 'creme_brulee'),\n",
              "  Text(28.5, 0, 'croque_madame'),\n",
              "  Text(29.5, 0, 'cup_cakes'),\n",
              "  Text(30.5, 0, 'deviled_eggs'),\n",
              "  Text(31.5, 0, 'donuts'),\n",
              "  Text(32.5, 0, 'dumplings'),\n",
              "  Text(33.5, 0, 'edamame'),\n",
              "  Text(34.5, 0, 'eggs_benedict'),\n",
              "  Text(35.5, 0, 'escargots'),\n",
              "  Text(36.5, 0, 'falafel'),\n",
              "  Text(37.5, 0, 'filet_mignon'),\n",
              "  Text(38.5, 0, 'fish_and_chips'),\n",
              "  Text(39.5, 0, 'foie_gras'),\n",
              "  Text(40.5, 0, 'french_fries'),\n",
              "  Text(41.5, 0, 'french_onion_soup'),\n",
              "  Text(42.5, 0, 'french_toast'),\n",
              "  Text(43.5, 0, 'fried_calamari'),\n",
              "  Text(44.5, 0, 'fried_rice'),\n",
              "  Text(45.5, 0, 'frozen_yogurt'),\n",
              "  Text(46.5, 0, 'garlic_bread'),\n",
              "  Text(47.5, 0, 'gnocchi'),\n",
              "  Text(48.5, 0, 'greek_salad'),\n",
              "  Text(49.5, 0, 'grilled_cheese_sandwich'),\n",
              "  Text(50.5, 0, 'grilled_salmon'),\n",
              "  Text(51.5, 0, 'guacamole'),\n",
              "  Text(52.5, 0, 'gyoza'),\n",
              "  Text(53.5, 0, 'hamburger'),\n",
              "  Text(54.5, 0, 'hot_and_sour_soup'),\n",
              "  Text(55.5, 0, 'hot_dog'),\n",
              "  Text(56.5, 0, 'huevos_rancheros'),\n",
              "  Text(57.5, 0, 'hummus'),\n",
              "  Text(58.5, 0, 'ice_cream'),\n",
              "  Text(59.5, 0, 'lasagna'),\n",
              "  Text(60.5, 0, 'lobster_bisque'),\n",
              "  Text(61.5, 0, 'lobster_roll_sandwich'),\n",
              "  Text(62.5, 0, 'macaroni_and_cheese'),\n",
              "  Text(63.5, 0, 'macarons'),\n",
              "  Text(64.5, 0, 'miso_soup'),\n",
              "  Text(65.5, 0, 'mussels'),\n",
              "  Text(66.5, 0, 'nachos'),\n",
              "  Text(67.5, 0, 'omelette'),\n",
              "  Text(68.5, 0, 'onion_rings'),\n",
              "  Text(69.5, 0, 'oysters'),\n",
              "  Text(70.5, 0, 'pad_thai'),\n",
              "  Text(71.5, 0, 'paella'),\n",
              "  Text(72.5, 0, 'pancakes'),\n",
              "  Text(73.5, 0, 'panna_cotta'),\n",
              "  Text(74.5, 0, 'peking_duck'),\n",
              "  Text(75.5, 0, 'pho'),\n",
              "  Text(76.5, 0, 'pizza'),\n",
              "  Text(77.5, 0, 'pork_chop'),\n",
              "  Text(78.5, 0, 'poutine'),\n",
              "  Text(79.5, 0, 'prime_rib'),\n",
              "  Text(80.5, 0, 'pulled_pork_sandwich'),\n",
              "  Text(81.5, 0, 'ramen'),\n",
              "  Text(82.5, 0, 'ravioli'),\n",
              "  Text(83.5, 0, 'red_velvet_cake'),\n",
              "  Text(84.5, 0, 'risotto'),\n",
              "  Text(85.5, 0, 'samosa'),\n",
              "  Text(86.5, 0, 'sashimi'),\n",
              "  Text(87.5, 0, 'scallops'),\n",
              "  Text(88.5, 0, 'seaweed_salad'),\n",
              "  Text(89.5, 0, 'shrimp_and_grits'),\n",
              "  Text(90.5, 0, 'spaghetti_bolognese'),\n",
              "  Text(91.5, 0, 'spaghetti_carbonara'),\n",
              "  Text(92.5, 0, 'spring_rolls'),\n",
              "  Text(93.5, 0, 'steak'),\n",
              "  Text(94.5, 0, 'strawberry_shortcake'),\n",
              "  Text(95.5, 0, 'sushi'),\n",
              "  Text(96.5, 0, 'tacos'),\n",
              "  Text(97.5, 0, 'takoyaki'),\n",
              "  Text(98.5, 0, 'tiramisu'),\n",
              "  Text(99.5, 0, 'tuna_tartare'),\n",
              "  Text(100.5, 0, 'waffles')])"
            ]
          },
          "metadata": {},
          "execution_count": 65
        },
        {
          "output_type": "stream",
          "name": "stdout",
          "text": [
            "Error in callback <function flush_figures at 0x7cc1ab189360> (for post_execute):\n"
          ]
        },
        {
          "output_type": "error",
          "ename": "KeyboardInterrupt",
          "evalue": "ignored",
          "traceback": [
            "\u001b[0;31m---------------------------------------------------------------------------\u001b[0m",
            "\u001b[0;31mKeyboardInterrupt\u001b[0m                         Traceback (most recent call last)",
            "\u001b[0;32m/usr/local/lib/python3.10/dist-packages/matplotlib_inline/backend_inline.py\u001b[0m in \u001b[0;36mflush_figures\u001b[0;34m()\u001b[0m\n\u001b[1;32m    124\u001b[0m             \u001b[0;31m# ignore the tracking, just draw and close all figures\u001b[0m\u001b[0;34m\u001b[0m\u001b[0;34m\u001b[0m\u001b[0m\n\u001b[1;32m    125\u001b[0m             \u001b[0;32mtry\u001b[0m\u001b[0;34m:\u001b[0m\u001b[0;34m\u001b[0m\u001b[0;34m\u001b[0m\u001b[0m\n\u001b[0;32m--> 126\u001b[0;31m                 \u001b[0;32mreturn\u001b[0m \u001b[0mshow\u001b[0m\u001b[0;34m(\u001b[0m\u001b[0;32mTrue\u001b[0m\u001b[0;34m)\u001b[0m\u001b[0;34m\u001b[0m\u001b[0;34m\u001b[0m\u001b[0m\n\u001b[0m\u001b[1;32m    127\u001b[0m             \u001b[0;32mexcept\u001b[0m \u001b[0mException\u001b[0m \u001b[0;32mas\u001b[0m \u001b[0me\u001b[0m\u001b[0;34m:\u001b[0m\u001b[0;34m\u001b[0m\u001b[0;34m\u001b[0m\u001b[0m\n\u001b[1;32m    128\u001b[0m                 \u001b[0;31m# safely show traceback if in IPython, else raise\u001b[0m\u001b[0;34m\u001b[0m\u001b[0;34m\u001b[0m\u001b[0m\n",
            "\u001b[0;32m/usr/local/lib/python3.10/dist-packages/matplotlib_inline/backend_inline.py\u001b[0m in \u001b[0;36mshow\u001b[0;34m(close, block)\u001b[0m\n\u001b[1;32m     88\u001b[0m     \u001b[0;32mtry\u001b[0m\u001b[0;34m:\u001b[0m\u001b[0;34m\u001b[0m\u001b[0;34m\u001b[0m\u001b[0m\n\u001b[1;32m     89\u001b[0m         \u001b[0;32mfor\u001b[0m \u001b[0mfigure_manager\u001b[0m \u001b[0;32min\u001b[0m \u001b[0mGcf\u001b[0m\u001b[0;34m.\u001b[0m\u001b[0mget_all_fig_managers\u001b[0m\u001b[0;34m(\u001b[0m\u001b[0;34m)\u001b[0m\u001b[0;34m:\u001b[0m\u001b[0;34m\u001b[0m\u001b[0;34m\u001b[0m\u001b[0m\n\u001b[0;32m---> 90\u001b[0;31m             display(\n\u001b[0m\u001b[1;32m     91\u001b[0m                 \u001b[0mfigure_manager\u001b[0m\u001b[0;34m.\u001b[0m\u001b[0mcanvas\u001b[0m\u001b[0;34m.\u001b[0m\u001b[0mfigure\u001b[0m\u001b[0;34m,\u001b[0m\u001b[0;34m\u001b[0m\u001b[0;34m\u001b[0m\u001b[0m\n\u001b[1;32m     92\u001b[0m                 \u001b[0mmetadata\u001b[0m\u001b[0;34m=\u001b[0m\u001b[0m_fetch_figure_metadata\u001b[0m\u001b[0;34m(\u001b[0m\u001b[0mfigure_manager\u001b[0m\u001b[0;34m.\u001b[0m\u001b[0mcanvas\u001b[0m\u001b[0;34m.\u001b[0m\u001b[0mfigure\u001b[0m\u001b[0;34m)\u001b[0m\u001b[0;34m\u001b[0m\u001b[0;34m\u001b[0m\u001b[0m\n",
            "\u001b[0;32m/usr/local/lib/python3.10/dist-packages/IPython/core/display.py\u001b[0m in \u001b[0;36mdisplay\u001b[0;34m(include, exclude, metadata, transient, display_id, *objs, **kwargs)\u001b[0m\n\u001b[1;32m    318\u001b[0m             \u001b[0mpublish_display_data\u001b[0m\u001b[0;34m(\u001b[0m\u001b[0mdata\u001b[0m\u001b[0;34m=\u001b[0m\u001b[0mobj\u001b[0m\u001b[0;34m,\u001b[0m \u001b[0mmetadata\u001b[0m\u001b[0;34m=\u001b[0m\u001b[0mmetadata\u001b[0m\u001b[0;34m,\u001b[0m \u001b[0;34m**\u001b[0m\u001b[0mkwargs\u001b[0m\u001b[0;34m)\u001b[0m\u001b[0;34m\u001b[0m\u001b[0;34m\u001b[0m\u001b[0m\n\u001b[1;32m    319\u001b[0m         \u001b[0;32melse\u001b[0m\u001b[0;34m:\u001b[0m\u001b[0;34m\u001b[0m\u001b[0;34m\u001b[0m\u001b[0m\n\u001b[0;32m--> 320\u001b[0;31m             \u001b[0mformat_dict\u001b[0m\u001b[0;34m,\u001b[0m \u001b[0mmd_dict\u001b[0m \u001b[0;34m=\u001b[0m \u001b[0mformat\u001b[0m\u001b[0;34m(\u001b[0m\u001b[0mobj\u001b[0m\u001b[0;34m,\u001b[0m \u001b[0minclude\u001b[0m\u001b[0;34m=\u001b[0m\u001b[0minclude\u001b[0m\u001b[0;34m,\u001b[0m \u001b[0mexclude\u001b[0m\u001b[0;34m=\u001b[0m\u001b[0mexclude\u001b[0m\u001b[0;34m)\u001b[0m\u001b[0;34m\u001b[0m\u001b[0;34m\u001b[0m\u001b[0m\n\u001b[0m\u001b[1;32m    321\u001b[0m             \u001b[0;32mif\u001b[0m \u001b[0;32mnot\u001b[0m \u001b[0mformat_dict\u001b[0m\u001b[0;34m:\u001b[0m\u001b[0;34m\u001b[0m\u001b[0;34m\u001b[0m\u001b[0m\n\u001b[1;32m    322\u001b[0m                 \u001b[0;31m# nothing to display (e.g. _ipython_display_ took over)\u001b[0m\u001b[0;34m\u001b[0m\u001b[0;34m\u001b[0m\u001b[0m\n",
            "\u001b[0;32m/usr/local/lib/python3.10/dist-packages/IPython/core/formatters.py\u001b[0m in \u001b[0;36mformat\u001b[0;34m(self, obj, include, exclude)\u001b[0m\n\u001b[1;32m    178\u001b[0m             \u001b[0mmd\u001b[0m \u001b[0;34m=\u001b[0m \u001b[0;32mNone\u001b[0m\u001b[0;34m\u001b[0m\u001b[0;34m\u001b[0m\u001b[0m\n\u001b[1;32m    179\u001b[0m             \u001b[0;32mtry\u001b[0m\u001b[0;34m:\u001b[0m\u001b[0;34m\u001b[0m\u001b[0;34m\u001b[0m\u001b[0m\n\u001b[0;32m--> 180\u001b[0;31m                 \u001b[0mdata\u001b[0m \u001b[0;34m=\u001b[0m \u001b[0mformatter\u001b[0m\u001b[0;34m(\u001b[0m\u001b[0mobj\u001b[0m\u001b[0;34m)\u001b[0m\u001b[0;34m\u001b[0m\u001b[0;34m\u001b[0m\u001b[0m\n\u001b[0m\u001b[1;32m    181\u001b[0m             \u001b[0;32mexcept\u001b[0m\u001b[0;34m:\u001b[0m\u001b[0;34m\u001b[0m\u001b[0;34m\u001b[0m\u001b[0m\n\u001b[1;32m    182\u001b[0m                 \u001b[0;31m# FIXME: log the exception\u001b[0m\u001b[0;34m\u001b[0m\u001b[0;34m\u001b[0m\u001b[0m\n",
            "\u001b[0;32m<decorator-gen-2>\u001b[0m in \u001b[0;36m__call__\u001b[0;34m(self, obj)\u001b[0m\n",
            "\u001b[0;32m/usr/local/lib/python3.10/dist-packages/IPython/core/formatters.py\u001b[0m in \u001b[0;36mcatch_format_error\u001b[0;34m(method, self, *args, **kwargs)\u001b[0m\n\u001b[1;32m    222\u001b[0m     \u001b[0;34m\"\"\"show traceback on failed format call\"\"\"\u001b[0m\u001b[0;34m\u001b[0m\u001b[0;34m\u001b[0m\u001b[0m\n\u001b[1;32m    223\u001b[0m     \u001b[0;32mtry\u001b[0m\u001b[0;34m:\u001b[0m\u001b[0;34m\u001b[0m\u001b[0;34m\u001b[0m\u001b[0m\n\u001b[0;32m--> 224\u001b[0;31m         \u001b[0mr\u001b[0m \u001b[0;34m=\u001b[0m \u001b[0mmethod\u001b[0m\u001b[0;34m(\u001b[0m\u001b[0mself\u001b[0m\u001b[0;34m,\u001b[0m \u001b[0;34m*\u001b[0m\u001b[0margs\u001b[0m\u001b[0;34m,\u001b[0m \u001b[0;34m**\u001b[0m\u001b[0mkwargs\u001b[0m\u001b[0;34m)\u001b[0m\u001b[0;34m\u001b[0m\u001b[0;34m\u001b[0m\u001b[0m\n\u001b[0m\u001b[1;32m    225\u001b[0m     \u001b[0;32mexcept\u001b[0m \u001b[0mNotImplementedError\u001b[0m\u001b[0;34m:\u001b[0m\u001b[0;34m\u001b[0m\u001b[0;34m\u001b[0m\u001b[0m\n\u001b[1;32m    226\u001b[0m         \u001b[0;31m# don't warn on NotImplementedErrors\u001b[0m\u001b[0;34m\u001b[0m\u001b[0;34m\u001b[0m\u001b[0m\n",
            "\u001b[0;32m/usr/local/lib/python3.10/dist-packages/IPython/core/formatters.py\u001b[0m in \u001b[0;36m__call__\u001b[0;34m(self, obj)\u001b[0m\n\u001b[1;32m    339\u001b[0m                 \u001b[0;32mpass\u001b[0m\u001b[0;34m\u001b[0m\u001b[0;34m\u001b[0m\u001b[0m\n\u001b[1;32m    340\u001b[0m             \u001b[0;32melse\u001b[0m\u001b[0;34m:\u001b[0m\u001b[0;34m\u001b[0m\u001b[0;34m\u001b[0m\u001b[0m\n\u001b[0;32m--> 341\u001b[0;31m                 \u001b[0;32mreturn\u001b[0m \u001b[0mprinter\u001b[0m\u001b[0;34m(\u001b[0m\u001b[0mobj\u001b[0m\u001b[0;34m)\u001b[0m\u001b[0;34m\u001b[0m\u001b[0;34m\u001b[0m\u001b[0m\n\u001b[0m\u001b[1;32m    342\u001b[0m             \u001b[0;31m# Finally look for special method names\u001b[0m\u001b[0;34m\u001b[0m\u001b[0;34m\u001b[0m\u001b[0m\n\u001b[1;32m    343\u001b[0m             \u001b[0mmethod\u001b[0m \u001b[0;34m=\u001b[0m \u001b[0mget_real_method\u001b[0m\u001b[0;34m(\u001b[0m\u001b[0mobj\u001b[0m\u001b[0;34m,\u001b[0m \u001b[0mself\u001b[0m\u001b[0;34m.\u001b[0m\u001b[0mprint_method\u001b[0m\u001b[0;34m)\u001b[0m\u001b[0;34m\u001b[0m\u001b[0;34m\u001b[0m\u001b[0m\n",
            "\u001b[0;32m/usr/local/lib/python3.10/dist-packages/IPython/core/pylabtools.py\u001b[0m in \u001b[0;36mprint_figure\u001b[0;34m(fig, fmt, bbox_inches, base64, **kwargs)\u001b[0m\n\u001b[1;32m    149\u001b[0m         \u001b[0mFigureCanvasBase\u001b[0m\u001b[0;34m(\u001b[0m\u001b[0mfig\u001b[0m\u001b[0;34m)\u001b[0m\u001b[0;34m\u001b[0m\u001b[0;34m\u001b[0m\u001b[0m\n\u001b[1;32m    150\u001b[0m \u001b[0;34m\u001b[0m\u001b[0m\n\u001b[0;32m--> 151\u001b[0;31m     \u001b[0mfig\u001b[0m\u001b[0;34m.\u001b[0m\u001b[0mcanvas\u001b[0m\u001b[0;34m.\u001b[0m\u001b[0mprint_figure\u001b[0m\u001b[0;34m(\u001b[0m\u001b[0mbytes_io\u001b[0m\u001b[0;34m,\u001b[0m \u001b[0;34m**\u001b[0m\u001b[0mkw\u001b[0m\u001b[0;34m)\u001b[0m\u001b[0;34m\u001b[0m\u001b[0;34m\u001b[0m\u001b[0m\n\u001b[0m\u001b[1;32m    152\u001b[0m     \u001b[0mdata\u001b[0m \u001b[0;34m=\u001b[0m \u001b[0mbytes_io\u001b[0m\u001b[0;34m.\u001b[0m\u001b[0mgetvalue\u001b[0m\u001b[0;34m(\u001b[0m\u001b[0;34m)\u001b[0m\u001b[0;34m\u001b[0m\u001b[0;34m\u001b[0m\u001b[0m\n\u001b[1;32m    153\u001b[0m     \u001b[0;32mif\u001b[0m \u001b[0mfmt\u001b[0m \u001b[0;34m==\u001b[0m \u001b[0;34m'svg'\u001b[0m\u001b[0;34m:\u001b[0m\u001b[0;34m\u001b[0m\u001b[0;34m\u001b[0m\u001b[0m\n",
            "\u001b[0;32m/usr/local/lib/python3.10/dist-packages/matplotlib/backend_bases.py\u001b[0m in \u001b[0;36mprint_figure\u001b[0;34m(self, filename, dpi, facecolor, edgecolor, orientation, format, bbox_inches, pad_inches, bbox_extra_artists, backend, **kwargs)\u001b[0m\n\u001b[1;32m   2344\u001b[0m             \u001b[0;32mif\u001b[0m \u001b[0mbbox_inches\u001b[0m\u001b[0;34m:\u001b[0m\u001b[0;34m\u001b[0m\u001b[0;34m\u001b[0m\u001b[0m\n\u001b[1;32m   2345\u001b[0m                 \u001b[0;32mif\u001b[0m \u001b[0mbbox_inches\u001b[0m \u001b[0;34m==\u001b[0m \u001b[0;34m\"tight\"\u001b[0m\u001b[0;34m:\u001b[0m\u001b[0;34m\u001b[0m\u001b[0;34m\u001b[0m\u001b[0m\n\u001b[0;32m-> 2346\u001b[0;31m                     bbox_inches = self.figure.get_tightbbox(\n\u001b[0m\u001b[1;32m   2347\u001b[0m                         renderer, bbox_extra_artists=bbox_extra_artists)\n\u001b[1;32m   2348\u001b[0m                     \u001b[0;32mif\u001b[0m \u001b[0mpad_inches\u001b[0m \u001b[0;32mis\u001b[0m \u001b[0;32mNone\u001b[0m\u001b[0;34m:\u001b[0m\u001b[0;34m\u001b[0m\u001b[0;34m\u001b[0m\u001b[0m\n",
            "\u001b[0;32m/usr/local/lib/python3.10/dist-packages/matplotlib/figure.py\u001b[0m in \u001b[0;36mget_tightbbox\u001b[0;34m(self, renderer, bbox_extra_artists)\u001b[0m\n\u001b[1;32m   1742\u001b[0m \u001b[0;34m\u001b[0m\u001b[0m\n\u001b[1;32m   1743\u001b[0m         \u001b[0;32mfor\u001b[0m \u001b[0ma\u001b[0m \u001b[0;32min\u001b[0m \u001b[0martists\u001b[0m\u001b[0;34m:\u001b[0m\u001b[0;34m\u001b[0m\u001b[0;34m\u001b[0m\u001b[0m\n\u001b[0;32m-> 1744\u001b[0;31m             \u001b[0mbbox\u001b[0m \u001b[0;34m=\u001b[0m \u001b[0ma\u001b[0m\u001b[0;34m.\u001b[0m\u001b[0mget_tightbbox\u001b[0m\u001b[0;34m(\u001b[0m\u001b[0mrenderer\u001b[0m\u001b[0;34m)\u001b[0m\u001b[0;34m\u001b[0m\u001b[0;34m\u001b[0m\u001b[0m\n\u001b[0m\u001b[1;32m   1745\u001b[0m             \u001b[0;32mif\u001b[0m \u001b[0mbbox\u001b[0m \u001b[0;32mis\u001b[0m \u001b[0;32mnot\u001b[0m \u001b[0;32mNone\u001b[0m\u001b[0;34m:\u001b[0m\u001b[0;34m\u001b[0m\u001b[0;34m\u001b[0m\u001b[0m\n\u001b[1;32m   1746\u001b[0m                 \u001b[0mbb\u001b[0m\u001b[0;34m.\u001b[0m\u001b[0mappend\u001b[0m\u001b[0;34m(\u001b[0m\u001b[0mbbox\u001b[0m\u001b[0;34m)\u001b[0m\u001b[0;34m\u001b[0m\u001b[0;34m\u001b[0m\u001b[0m\n",
            "\u001b[0;32m/usr/local/lib/python3.10/dist-packages/matplotlib/axes/_base.py\u001b[0m in \u001b[0;36mget_tightbbox\u001b[0;34m(self, renderer, call_axes_locator, bbox_extra_artists, for_layout_only)\u001b[0m\n\u001b[1;32m   4411\u001b[0m                     and 0 < bbox.height < np.inf):\n\u001b[1;32m   4412\u001b[0m                 \u001b[0mbb\u001b[0m\u001b[0;34m.\u001b[0m\u001b[0mappend\u001b[0m\u001b[0;34m(\u001b[0m\u001b[0mbbox\u001b[0m\u001b[0;34m)\u001b[0m\u001b[0;34m\u001b[0m\u001b[0;34m\u001b[0m\u001b[0m\n\u001b[0;32m-> 4413\u001b[0;31m         return mtransforms.Bbox.union(\n\u001b[0m\u001b[1;32m   4414\u001b[0m             [b for b in bb if b.width != 0 or b.height != 0])\n\u001b[1;32m   4415\u001b[0m \u001b[0;34m\u001b[0m\u001b[0m\n",
            "\u001b[0;32m/usr/local/lib/python3.10/dist-packages/matplotlib/transforms.py\u001b[0m in \u001b[0;36munion\u001b[0;34m(bboxes)\u001b[0m\n\u001b[1;32m    652\u001b[0m         \u001b[0;32mif\u001b[0m \u001b[0;32mnot\u001b[0m \u001b[0mlen\u001b[0m\u001b[0;34m(\u001b[0m\u001b[0mbboxes\u001b[0m\u001b[0;34m)\u001b[0m\u001b[0;34m:\u001b[0m\u001b[0;34m\u001b[0m\u001b[0;34m\u001b[0m\u001b[0m\n\u001b[1;32m    653\u001b[0m             \u001b[0;32mraise\u001b[0m \u001b[0mValueError\u001b[0m\u001b[0;34m(\u001b[0m\u001b[0;34m\"'bboxes' cannot be empty\"\u001b[0m\u001b[0;34m)\u001b[0m\u001b[0;34m\u001b[0m\u001b[0;34m\u001b[0m\u001b[0m\n\u001b[0;32m--> 654\u001b[0;31m         \u001b[0mx0\u001b[0m \u001b[0;34m=\u001b[0m \u001b[0mnp\u001b[0m\u001b[0;34m.\u001b[0m\u001b[0mmin\u001b[0m\u001b[0;34m(\u001b[0m\u001b[0;34m[\u001b[0m\u001b[0mbbox\u001b[0m\u001b[0;34m.\u001b[0m\u001b[0mxmin\u001b[0m \u001b[0;32mfor\u001b[0m \u001b[0mbbox\u001b[0m \u001b[0;32min\u001b[0m \u001b[0mbboxes\u001b[0m\u001b[0;34m]\u001b[0m\u001b[0;34m)\u001b[0m\u001b[0;34m\u001b[0m\u001b[0;34m\u001b[0m\u001b[0m\n\u001b[0m\u001b[1;32m    655\u001b[0m         \u001b[0mx1\u001b[0m \u001b[0;34m=\u001b[0m \u001b[0mnp\u001b[0m\u001b[0;34m.\u001b[0m\u001b[0mmax\u001b[0m\u001b[0;34m(\u001b[0m\u001b[0;34m[\u001b[0m\u001b[0mbbox\u001b[0m\u001b[0;34m.\u001b[0m\u001b[0mxmax\u001b[0m \u001b[0;32mfor\u001b[0m \u001b[0mbbox\u001b[0m \u001b[0;32min\u001b[0m \u001b[0mbboxes\u001b[0m\u001b[0;34m]\u001b[0m\u001b[0;34m)\u001b[0m\u001b[0;34m\u001b[0m\u001b[0;34m\u001b[0m\u001b[0m\n\u001b[1;32m    656\u001b[0m         \u001b[0my0\u001b[0m \u001b[0;34m=\u001b[0m \u001b[0mnp\u001b[0m\u001b[0;34m.\u001b[0m\u001b[0mmin\u001b[0m\u001b[0;34m(\u001b[0m\u001b[0;34m[\u001b[0m\u001b[0mbbox\u001b[0m\u001b[0;34m.\u001b[0m\u001b[0mymin\u001b[0m \u001b[0;32mfor\u001b[0m \u001b[0mbbox\u001b[0m \u001b[0;32min\u001b[0m \u001b[0mbboxes\u001b[0m\u001b[0;34m]\u001b[0m\u001b[0;34m)\u001b[0m\u001b[0;34m\u001b[0m\u001b[0;34m\u001b[0m\u001b[0m\n",
            "\u001b[0;32m/usr/local/lib/python3.10/dist-packages/matplotlib/transforms.py\u001b[0m in \u001b[0;36m<listcomp>\u001b[0;34m(.0)\u001b[0m\n\u001b[1;32m    652\u001b[0m         \u001b[0;32mif\u001b[0m \u001b[0;32mnot\u001b[0m \u001b[0mlen\u001b[0m\u001b[0;34m(\u001b[0m\u001b[0mbboxes\u001b[0m\u001b[0;34m)\u001b[0m\u001b[0;34m:\u001b[0m\u001b[0;34m\u001b[0m\u001b[0;34m\u001b[0m\u001b[0m\n\u001b[1;32m    653\u001b[0m             \u001b[0;32mraise\u001b[0m \u001b[0mValueError\u001b[0m\u001b[0;34m(\u001b[0m\u001b[0;34m\"'bboxes' cannot be empty\"\u001b[0m\u001b[0;34m)\u001b[0m\u001b[0;34m\u001b[0m\u001b[0;34m\u001b[0m\u001b[0m\n\u001b[0;32m--> 654\u001b[0;31m         \u001b[0mx0\u001b[0m \u001b[0;34m=\u001b[0m \u001b[0mnp\u001b[0m\u001b[0;34m.\u001b[0m\u001b[0mmin\u001b[0m\u001b[0;34m(\u001b[0m\u001b[0;34m[\u001b[0m\u001b[0mbbox\u001b[0m\u001b[0;34m.\u001b[0m\u001b[0mxmin\u001b[0m \u001b[0;32mfor\u001b[0m \u001b[0mbbox\u001b[0m \u001b[0;32min\u001b[0m \u001b[0mbboxes\u001b[0m\u001b[0;34m]\u001b[0m\u001b[0;34m)\u001b[0m\u001b[0;34m\u001b[0m\u001b[0;34m\u001b[0m\u001b[0m\n\u001b[0m\u001b[1;32m    655\u001b[0m         \u001b[0mx1\u001b[0m \u001b[0;34m=\u001b[0m \u001b[0mnp\u001b[0m\u001b[0;34m.\u001b[0m\u001b[0mmax\u001b[0m\u001b[0;34m(\u001b[0m\u001b[0;34m[\u001b[0m\u001b[0mbbox\u001b[0m\u001b[0;34m.\u001b[0m\u001b[0mxmax\u001b[0m \u001b[0;32mfor\u001b[0m \u001b[0mbbox\u001b[0m \u001b[0;32min\u001b[0m \u001b[0mbboxes\u001b[0m\u001b[0;34m]\u001b[0m\u001b[0;34m)\u001b[0m\u001b[0;34m\u001b[0m\u001b[0;34m\u001b[0m\u001b[0m\n\u001b[1;32m    656\u001b[0m         \u001b[0my0\u001b[0m \u001b[0;34m=\u001b[0m \u001b[0mnp\u001b[0m\u001b[0;34m.\u001b[0m\u001b[0mmin\u001b[0m\u001b[0;34m(\u001b[0m\u001b[0;34m[\u001b[0m\u001b[0mbbox\u001b[0m\u001b[0;34m.\u001b[0m\u001b[0mymin\u001b[0m \u001b[0;32mfor\u001b[0m \u001b[0mbbox\u001b[0m \u001b[0;32min\u001b[0m \u001b[0mbboxes\u001b[0m\u001b[0;34m]\u001b[0m\u001b[0;34m)\u001b[0m\u001b[0;34m\u001b[0m\u001b[0;34m\u001b[0m\u001b[0m\n",
            "\u001b[0;32m/usr/local/lib/python3.10/dist-packages/matplotlib/transforms.py\u001b[0m in \u001b[0;36mxmin\u001b[0;34m(self)\u001b[0m\n\u001b[1;32m    314\u001b[0m     \u001b[0;32mdef\u001b[0m \u001b[0mxmin\u001b[0m\u001b[0;34m(\u001b[0m\u001b[0mself\u001b[0m\u001b[0;34m)\u001b[0m\u001b[0;34m:\u001b[0m\u001b[0;34m\u001b[0m\u001b[0;34m\u001b[0m\u001b[0m\n\u001b[1;32m    315\u001b[0m         \u001b[0;34m\"\"\"The left edge of the bounding box.\"\"\"\u001b[0m\u001b[0;34m\u001b[0m\u001b[0;34m\u001b[0m\u001b[0m\n\u001b[0;32m--> 316\u001b[0;31m         \u001b[0;32mreturn\u001b[0m \u001b[0mnp\u001b[0m\u001b[0;34m.\u001b[0m\u001b[0mmin\u001b[0m\u001b[0;34m(\u001b[0m\u001b[0mself\u001b[0m\u001b[0;34m.\u001b[0m\u001b[0mget_points\u001b[0m\u001b[0;34m(\u001b[0m\u001b[0;34m)\u001b[0m\u001b[0;34m[\u001b[0m\u001b[0;34m:\u001b[0m\u001b[0;34m,\u001b[0m \u001b[0;36m0\u001b[0m\u001b[0;34m]\u001b[0m\u001b[0;34m)\u001b[0m\u001b[0;34m\u001b[0m\u001b[0;34m\u001b[0m\u001b[0m\n\u001b[0m\u001b[1;32m    317\u001b[0m \u001b[0;34m\u001b[0m\u001b[0m\n\u001b[1;32m    318\u001b[0m     \u001b[0;34m@\u001b[0m\u001b[0mproperty\u001b[0m\u001b[0;34m\u001b[0m\u001b[0;34m\u001b[0m\u001b[0m\n",
            "\u001b[0;32m/usr/local/lib/python3.10/dist-packages/numpy/core/overrides.py\u001b[0m in \u001b[0;36mamin\u001b[0;34m(*args, **kwargs)\u001b[0m\n",
            "\u001b[0;32m/usr/local/lib/python3.10/dist-packages/numpy/core/fromnumeric.py\u001b[0m in \u001b[0;36mamin\u001b[0;34m(a, axis, out, keepdims, initial, where)\u001b[0m\n\u001b[1;32m   2914\u001b[0m     \u001b[0;36m6\u001b[0m\u001b[0;34m\u001b[0m\u001b[0;34m\u001b[0m\u001b[0m\n\u001b[1;32m   2915\u001b[0m     \"\"\"\n\u001b[0;32m-> 2916\u001b[0;31m     return _wrapreduction(a, np.minimum, 'min', axis, None, out,\n\u001b[0m\u001b[1;32m   2917\u001b[0m                           keepdims=keepdims, initial=initial, where=where)\n\u001b[1;32m   2918\u001b[0m \u001b[0;34m\u001b[0m\u001b[0m\n",
            "\u001b[0;32m/usr/local/lib/python3.10/dist-packages/numpy/core/fromnumeric.py\u001b[0m in \u001b[0;36m_wrapreduction\u001b[0;34m(obj, ufunc, method, axis, dtype, out, **kwargs)\u001b[0m\n\u001b[1;32m     84\u001b[0m                 \u001b[0;32mreturn\u001b[0m \u001b[0mreduction\u001b[0m\u001b[0;34m(\u001b[0m\u001b[0maxis\u001b[0m\u001b[0;34m=\u001b[0m\u001b[0maxis\u001b[0m\u001b[0;34m,\u001b[0m \u001b[0mout\u001b[0m\u001b[0;34m=\u001b[0m\u001b[0mout\u001b[0m\u001b[0;34m,\u001b[0m \u001b[0;34m**\u001b[0m\u001b[0mpasskwargs\u001b[0m\u001b[0;34m)\u001b[0m\u001b[0;34m\u001b[0m\u001b[0;34m\u001b[0m\u001b[0m\n\u001b[1;32m     85\u001b[0m \u001b[0;34m\u001b[0m\u001b[0m\n\u001b[0;32m---> 86\u001b[0;31m     \u001b[0;32mreturn\u001b[0m \u001b[0mufunc\u001b[0m\u001b[0;34m.\u001b[0m\u001b[0mreduce\u001b[0m\u001b[0;34m(\u001b[0m\u001b[0mobj\u001b[0m\u001b[0;34m,\u001b[0m \u001b[0maxis\u001b[0m\u001b[0;34m,\u001b[0m \u001b[0mdtype\u001b[0m\u001b[0;34m,\u001b[0m \u001b[0mout\u001b[0m\u001b[0;34m,\u001b[0m \u001b[0;34m**\u001b[0m\u001b[0mpasskwargs\u001b[0m\u001b[0;34m)\u001b[0m\u001b[0;34m\u001b[0m\u001b[0;34m\u001b[0m\u001b[0m\n\u001b[0m\u001b[1;32m     87\u001b[0m \u001b[0;34m\u001b[0m\u001b[0m\n\u001b[1;32m     88\u001b[0m \u001b[0;34m\u001b[0m\u001b[0m\n",
            "\u001b[0;31mKeyboardInterrupt\u001b[0m: "
          ]
        }
      ]
    },
    {
      "cell_type": "code",
      "source": [
        "print(clr)"
      ],
      "metadata": {
        "colab": {
          "base_uri": "https://localhost:8080/"
        },
        "id": "UY_NrGRb8pLU",
        "outputId": "f2511072-9a52-497d-eadc-68cea3cc4c3f"
      },
      "execution_count": 66,
      "outputs": [
        {
          "output_type": "stream",
          "name": "stdout",
          "text": [
            "              precision    recall  f1-score   support\n",
            "\n",
            "           0       0.14      0.03      0.05        31\n",
            "           1       0.20      0.54      0.29        26\n",
            "           2       0.44      0.35      0.39        34\n",
            "           3       0.62      0.32      0.42        25\n",
            "           4       0.17      0.48      0.26        29\n",
            "           5       0.29      0.18      0.22        22\n",
            "           6       0.59      0.79      0.68        28\n",
            "           7       0.77      0.57      0.65        30\n",
            "           8       0.27      0.23      0.25        26\n",
            "           9       0.48      0.45      0.47        31\n",
            "          10       0.25      0.68      0.36        31\n",
            "          11       0.28      0.72      0.40        25\n",
            "          12       0.44      0.43      0.44        28\n",
            "          13       0.32      0.43      0.37        21\n",
            "          14       0.17      0.53      0.26        32\n",
            "          15       0.50      0.06      0.10        36\n",
            "          16       0.32      0.44      0.38        27\n",
            "          17       0.25      0.06      0.10        34\n",
            "          18       0.32      0.24      0.27        29\n",
            "          19       0.56      0.47      0.51        32\n",
            "          20       0.57      0.41      0.48        29\n",
            "          21       0.45      0.32      0.38        28\n",
            "          22       0.25      0.25      0.25        24\n",
            "          23       0.48      0.67      0.56        24\n",
            "          24       0.76      0.56      0.64        34\n",
            "          25       0.68      0.42      0.52        31\n",
            "          26       0.23      0.25      0.24        24\n",
            "          27       0.41      0.50      0.45        34\n",
            "          28       0.38      0.50      0.43        28\n",
            "          29       0.61      0.56      0.58        34\n",
            "          30       0.24      0.72      0.36        32\n",
            "          31       0.45      0.41      0.43        22\n",
            "          32       0.83      0.77      0.80        26\n",
            "          33       1.00      0.96      0.98        23\n",
            "          34       0.43      0.62      0.51        26\n",
            "          35       0.76      0.31      0.44        42\n",
            "          36       1.00      0.12      0.22        33\n",
            "          37       0.33      0.21      0.26        28\n",
            "          38       0.86      0.21      0.33        29\n",
            "          39       0.19      0.35      0.24        26\n",
            "          40       0.52      0.83      0.64        36\n",
            "          41       0.52      0.42      0.47        26\n",
            "          42       0.22      0.24      0.23        34\n",
            "          43       0.60      0.65      0.63        23\n",
            "          44       0.58      0.41      0.48        37\n",
            "          45       0.87      0.37      0.52        35\n",
            "          46       0.57      0.43      0.49        30\n",
            "          47       0.55      0.36      0.44        33\n",
            "          48       0.46      0.55      0.50        29\n",
            "          49       0.42      0.31      0.36        26\n",
            "          50       0.24      0.35      0.29        31\n",
            "          51       0.76      0.63      0.69        30\n",
            "          52       0.54      0.21      0.30        34\n",
            "          53       0.62      0.53      0.57        34\n",
            "          54       0.61      0.73      0.67        26\n",
            "          55       0.52      0.59      0.55        29\n",
            "          56       0.27      0.41      0.33        29\n",
            "          57       0.14      0.16      0.15        25\n",
            "          58       0.30      0.52      0.38        27\n",
            "          59       0.37      0.45      0.41        29\n",
            "          60       0.67      0.35      0.46        34\n",
            "          61       0.20      0.60      0.31        30\n",
            "          62       0.47      0.25      0.33        28\n",
            "          63       0.68      0.72      0.70        39\n",
            "          64       0.41      0.80      0.54        35\n",
            "          65       0.76      0.57      0.65        28\n",
            "          66       0.33      0.15      0.21        26\n",
            "          67       0.56      0.19      0.29        26\n",
            "          68       0.73      0.67      0.70        33\n",
            "          69       0.69      0.71      0.70        28\n",
            "          70       0.69      0.57      0.62        35\n",
            "          71       0.62      0.47      0.53        34\n",
            "          72       0.44      0.42      0.43        26\n",
            "          73       0.28      0.32      0.30        34\n",
            "          74       0.46      0.17      0.24        36\n",
            "          75       0.90      0.47      0.62        38\n",
            "          76       0.69      0.76      0.72        29\n",
            "          77       0.21      0.18      0.19        33\n",
            "          78       0.60      0.43      0.50        28\n",
            "          79       0.62      0.35      0.44        23\n",
            "          80       0.75      0.24      0.37        37\n",
            "          81       0.42      0.45      0.43        29\n",
            "          82       0.17      0.16      0.17        25\n",
            "          83       0.71      0.69      0.70        36\n",
            "          84       0.46      0.58      0.51        45\n",
            "          85       0.53      0.40      0.45        25\n",
            "          86       0.79      0.61      0.69        31\n",
            "          87       0.33      0.09      0.14        23\n",
            "          88       0.64      0.76      0.70        21\n",
            "          89       0.21      0.15      0.18        26\n",
            "          90       0.47      0.74      0.58        31\n",
            "          91       1.00      0.67      0.80        27\n",
            "          92       0.38      0.33      0.35        42\n",
            "          93       0.17      0.19      0.18        32\n",
            "          94       0.45      0.37      0.41        35\n",
            "          95       0.40      0.27      0.32        30\n",
            "          96       0.20      0.31      0.24        32\n",
            "          97       0.39      0.24      0.30        29\n",
            "          98       0.37      0.24      0.29        29\n",
            "          99       0.29      0.06      0.09        36\n",
            "         100       0.80      0.41      0.55        29\n",
            "\n",
            "    accuracy                           0.43      3030\n",
            "   macro avg       0.48      0.43      0.43      3030\n",
            "weighted avg       0.49      0.43      0.43      3030\n",
            "\n"
          ]
        }
      ]
    },
    {
      "cell_type": "markdown",
      "source": [
        "#model 2\n"
      ],
      "metadata": {
        "id": "m8u_OKeLCbKR"
      }
    },
    {
      "cell_type": "code",
      "source": [
        "import tensorflow as tf\n",
        "from tensorflow.keras.applications import ResNet50\n",
        "\n",
        "pretrained_model = ResNet50(\n",
        "    input_shape=(224, 224, 3),\n",
        "    include_top=False,\n",
        "    weights=\"imagenet\",\n",
        "    pooling=\"avg\"\n",
        ")\n",
        "pretrained_model.trainable = False\n",
        "\n",
        "inputs = pretrained_model.input\n",
        "x = tf.keras.layers.Dense(129, activation=\"relu\")(pretrained_model.output)\n",
        "x = tf.keras.layers.Dense(129, activation=\"relu\")(x)\n",
        "\n",
        "outputs = tf.keras.layers.Dense(101, activation=\"softmax\")(x)\n",
        "model = tf.keras.Model(inputs, outputs)\n",
        "model.compile(\n",
        "    optimizer=\"adam\",\n",
        "    loss=\"categorical_crossentropy\",\n",
        "    metrics=[\"accuracy\"]\n",
        ")\n",
        "\n",
        "history = model.fit(\n",
        "    train_images,\n",
        "    validation_data=val_images,\n",
        "    epochs=20,\n",
        "    callbacks=[\n",
        "        tf.keras.callbacks.EarlyStopping(\n",
        "            monitor=\"val_loss\",\n",
        "            patience=10,\n",
        "            restore_best_weights=True\n",
        "        )\n",
        "    ]\n",
        ")\n"
      ],
      "metadata": {
        "colab": {
          "base_uri": "https://localhost:8080/"
        },
        "id": "iDDJ6xBJ9BLB",
        "outputId": "bd9cd637-cc09-41ae-c4a4-7aa39ab7fea2"
      },
      "execution_count": null,
      "outputs": [
        {
          "output_type": "stream",
          "name": "stdout",
          "text": [
            "Downloading data from https://storage.googleapis.com/tensorflow/keras-applications/resnet/resnet50_weights_tf_dim_ordering_tf_kernels_notop.h5\n",
            "94765736/94765736 [==============================] - 1s 0us/step\n",
            "Epoch 1/20\n",
            "531/531 [==============================] - 148s 268ms/step - loss: 4.5370 - accuracy: 0.0246 - val_loss: 4.4600 - val_accuracy: 0.0314\n",
            "Epoch 2/20\n",
            "531/531 [==============================] - 141s 265ms/step - loss: 4.3812 - accuracy: 0.0411 - val_loss: 4.3552 - val_accuracy: 0.0476\n",
            "Epoch 3/20\n",
            "531/531 [==============================] - 124s 233ms/step - loss: 4.2887 - accuracy: 0.0518 - val_loss: 4.3025 - val_accuracy: 0.0495\n",
            "Epoch 4/20\n",
            " 77/531 [===>..........................] - ETA: 1:29 - loss: 4.1880 - accuracy: 0.0657"
          ]
        }
      ]
    },
    {
      "cell_type": "code",
      "source": [
        "results = model.evaluate(test_images,verbose=0)\n",
        "print(\"Test Accuracy: {:.2f}%\".format(results[1]*100))"
      ],
      "metadata": {
        "id": "T-GyLHBwCgfD"
      },
      "execution_count": null,
      "outputs": []
    },
    {
      "cell_type": "code",
      "source": [
        "predictions=np.argmax(model.predict(test_images),axis=1)\n",
        "\n",
        "cm = confusion_matrix(test_images.labels,predictions)\n",
        "clr = classification_report(test_images.labels,predictions,target_names=test_images.class_indices)"
      ],
      "metadata": {
        "id": "Ez6lT_xUCg7u"
      },
      "execution_count": null,
      "outputs": []
    },
    {
      "cell_type": "code",
      "source": [
        "plt.figure(figsize=(30,30))\n",
        "sns.heatmap(cm,annot=True,fmt=\"g\",vmin=0,cmap=\"Blues\",cbar=False,rotation=90)\n",
        "plt.xticks(ticks=np.arange(101)+0.5,labels=test_images.class_indices)\n",
        "plt.xlabel(\"predicted\")\n",
        "plt.ylabel(\"actual\")\n",
        "plt.title(\"confusion matrix\")\n",
        "plt.show()\n"
      ],
      "metadata": {
        "id": "SnZfER_vCks_"
      },
      "execution_count": null,
      "outputs": []
    },
    {
      "cell_type": "code",
      "source": [],
      "metadata": {
        "id": "XLh4Z-BoCk6F"
      },
      "execution_count": null,
      "outputs": []
    }
  ]
}