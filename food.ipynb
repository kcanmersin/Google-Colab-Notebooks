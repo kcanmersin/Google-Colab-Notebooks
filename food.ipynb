{
  "nbformat": 4,
  "nbformat_minor": 0,
  "metadata": {
    "colab": {
      "provenance": [],
      "gpuType": "T4",
      "authorship_tag": "ABX9TyMv/I5oz9SvmWW2MTIffKuJ",
      "include_colab_link": true
    },
    "kernelspec": {
      "name": "python3",
      "display_name": "Python 3"
    },
    "language_info": {
      "name": "python"
    },
    "accelerator": "GPU"
  },
  "cells": [
    {
      "cell_type": "markdown",
      "metadata": {
        "id": "view-in-github",
        "colab_type": "text"
      },
      "source": [
        "<a href=\"https://colab.research.google.com/github/kcanmersin/Google-Colab-Notebooks/blob/main/food.ipynb\" target=\"_parent\"><img src=\"https://colab.research.google.com/assets/colab-badge.svg\" alt=\"Open In Colab\"/></a>"
      ]
    },
    {
      "cell_type": "code",
      "source": [
        "import os\n",
        "import kaggle\n",
        "import gdown\n",
        "\n",
        "def download_kaggle_dataset_to_drive(dataset_name, drive_folder_path):\n",
        "    # Create a folder in Google Drive to store the downloaded dataset\n",
        "    if not os.path.exists(drive_folder_path):\n",
        "        os.makedirs(drive_folder_path)\n",
        "\n",
        "    # Set the path where you want to download the dataset in the drive_folder_path\n",
        "    download_path = os.path.join(drive_folder_path, dataset_name)\n",
        "\n",
        "    # Use the Kaggle API to download the dataset files\n",
        "    kaggle.api.dataset_download_files(dataset_name, path=download_path, unzip=True, quiet=True)\n",
        "\n",
        "    # List the downloaded files\n",
        "    downloaded_files = os.listdir(download_path)\n",
        "    print(f'Downloaded {len(downloaded_files)} files from the dataset: {dataset_name}')\n",
        "\n",
        "# Example usage:\n",
        "dataset_name = 'kmader/food41'\n",
        "drive_folder_path = '/content/drive/MyDrive/KaggleDatasets'\n",
        "download_kaggle_dataset_to_drive(dataset_name, drive_folder_path)\n",
        "csv_file_path = os.path.join(drive_folder_path, dataset_name)\n"
      ],
      "metadata": {
        "id": "6ejEnY9VuNMj"
      },
      "execution_count": null,
      "outputs": []
    },
    {
      "cell_type": "code",
      "source": [
        "file_path = os.path.join(drive_folder_path, dataset_name)"
      ],
      "metadata": {
        "id": "sHlyaJ_W4XIW"
      },
      "execution_count": null,
      "outputs": []
    },
    {
      "cell_type": "code",
      "source": [
        "file_path"
      ],
      "metadata": {
        "id": "_aj7pnxL4ZDJ"
      },
      "execution_count": null,
      "outputs": []
    },
    {
      "cell_type": "code",
      "source": [
        "import numpy as np\n",
        "import pandas as pd\n",
        "from pathlib import Path\n",
        "import os.path\n",
        "\n",
        "import matplotlib.pyplot as plt\n",
        "import seaborn as sns\n",
        "\n",
        "from sklearn.model_selection import train_test_split\n",
        "\n",
        "import tensorflow as tf\n",
        "\n",
        "from sklearn.metrics import confusion_matrix,classification_report"
      ],
      "metadata": {
        "id": "LgeiXap_uZ6O"
      },
      "execution_count": null,
      "outputs": []
    },
    {
      "cell_type": "code",
      "source": [
        "image_dir = Path(file_path+\"/images\")"
      ],
      "metadata": {
        "id": "mh520AOnx5A9"
      },
      "execution_count": null,
      "outputs": []
    },
    {
      "cell_type": "code",
      "source": [
        "image_dir"
      ],
      "metadata": {
        "id": "ve5R6ZEK4gxf"
      },
      "execution_count": null,
      "outputs": []
    },
    {
      "cell_type": "markdown",
      "source": [
        "### Creating Dataframe\n"
      ],
      "metadata": {
        "id": "6hVt5RtqyL3R"
      }
    },
    {
      "cell_type": "code",
      "source": [
        "filepaths=list(image_dir.glob(r\"**/*.jpg\"))"
      ],
      "metadata": {
        "id": "_NLaDAXqyEgq"
      },
      "execution_count": null,
      "outputs": []
    },
    {
      "cell_type": "code",
      "source": [
        "labels=list(map(lambda x:os.path.split(os.path.split(x)[0])[1],filepaths))"
      ],
      "metadata": {
        "id": "mpCGzLt6yVHc"
      },
      "execution_count": null,
      "outputs": []
    },
    {
      "cell_type": "code",
      "source": [
        "len(labels)"
      ],
      "metadata": {
        "id": "tjjJgoW8yZuH"
      },
      "execution_count": null,
      "outputs": []
    },
    {
      "cell_type": "code",
      "source": [
        "filepaths = pd.Series(filepaths,name=\"Filepath\").astype(str)\n",
        "labels = pd.Series(labels,name=\"Label\")\n"
      ],
      "metadata": {
        "id": "Dvk_5vb2zCfC"
      },
      "execution_count": null,
      "outputs": []
    },
    {
      "cell_type": "code",
      "source": [
        "images = pd.concat([filepaths,labels],axis=1)"
      ],
      "metadata": {
        "id": "ICZpkyuO00p8"
      },
      "execution_count": null,
      "outputs": []
    },
    {
      "cell_type": "code",
      "source": [
        "images.head()"
      ],
      "metadata": {
        "id": "6PDhXF8Z06xe"
      },
      "execution_count": null,
      "outputs": []
    },
    {
      "cell_type": "code",
      "source": [
        "category_samples=[]\n",
        "\n",
        "for category in images[\"Label\"].unique():\n",
        "  category_slice = images.query(\"Label == @category\")\n",
        "  category_samples.append(category_slice.sample(300,random_state=2))\n",
        "image_df = pd.concat(category_samples,axis=0).sample(frac=1.0,random_state=2).reset_index(drop=True)"
      ],
      "metadata": {
        "id": "qr3a3vFC08QK"
      },
      "execution_count": null,
      "outputs": []
    },
    {
      "cell_type": "code",
      "source": [
        "image_df"
      ],
      "metadata": {
        "id": "J155lY6m2NME"
      },
      "execution_count": null,
      "outputs": []
    },
    {
      "cell_type": "markdown",
      "source": [
        "#Train test Split\n",
        "\n"
      ],
      "metadata": {
        "id": "u0mDVheP4ocd"
      }
    },
    {
      "cell_type": "code",
      "source": [
        "train_df, test_df = train_test_split(image_df,train_size=0.7,shuffle=True,random_state=2)"
      ],
      "metadata": {
        "id": "Nbf7A2j44jhe"
      },
      "execution_count": null,
      "outputs": []
    },
    {
      "cell_type": "code",
      "source": [
        "import tensorflow as tf\n",
        "\n",
        "train_generator = tf.keras.preprocessing.image.ImageDataGenerator(\n",
        "    preprocessing_function=tf.keras.applications.mobilenet_v2.preprocess_input,\n",
        "    validation_split=0.2\n",
        ")\n",
        "\n",
        "test_generator = tf.keras.preprocessing.image.ImageDataGenerator(\n",
        "    preprocessing_function=tf.keras.applications.mobilenet_v2.preprocess_input\n",
        ")\n"
      ],
      "metadata": {
        "id": "Y6jH3_PC4ydA"
      },
      "execution_count": null,
      "outputs": []
    },
    {
      "cell_type": "code",
      "source": [
        "train_images=train_generator.flow_from_dataframe(\n",
        "    dataframe=train_df,\n",
        "    x_col=\"Filepath\",\n",
        "    y_col=\"Label\",\n",
        "    target_size=(224,224),\n",
        "    color_mode=\"rgb\",\n",
        "    class_mode=\"categorical\",\n",
        "    batch_size=32,\n",
        "    shuffle=True,\n",
        "    seed=42,\n",
        "    subset=\"training\"\n",
        ")\n",
        "val_images=train_generator.flow_from_dataframe(\n",
        "    dataframe=train_df,\n",
        "    x_col=\"Filepath\",\n",
        "    y_col=\"Label\",\n",
        "    target_size=(224,224),\n",
        "    color_mode=\"rgb\",\n",
        "    class_mode=\"categorical\",\n",
        "    batch_size=32,\n",
        "    shuffle=True,\n",
        "    seed=42,\n",
        "    subset=\"validation\"\n",
        ")\n",
        "test_images=test_generator.flow_from_dataframe(\n",
        "    dataframe=test_df,\n",
        "    x_col=\"Filepath\",\n",
        "    y_col=\"Label\",\n",
        "    target_size=(224,224),\n",
        "    color_mode=\"rgb\",\n",
        "    class_mode=\"categorical\",\n",
        "    batch_size=32,\n",
        "    shuffle=False\n",
        ")\n"
      ],
      "metadata": {
        "id": "sQexII_j5FAM"
      },
      "execution_count": null,
      "outputs": []
    },
    {
      "cell_type": "markdown",
      "source": [
        "#Model MobileNetV2\n",
        "\n"
      ],
      "metadata": {
        "id": "oHwYBUmL6Ekx"
      }
    },
    {
      "cell_type": "code",
      "source": [
        "pretrained_model=tf.keras.applications.MobileNetV2(\n",
        "    input_shape=(224,224,3),\n",
        "    include_top=False,\n",
        "    weights=\"imagenet\",\n",
        "    pooling=\"avg\"\n",
        ")\n",
        "pretrained_model.trainable=False"
      ],
      "metadata": {
        "id": "ArDDjWNL5vTi"
      },
      "execution_count": null,
      "outputs": []
    },
    {
      "cell_type": "code",
      "source": [
        " inputs=pretrained_model.input\n",
        "\n",
        " x=tf.keras.layers.Dense(129,activation=\"relu\")(pretrained_model.output)\n",
        " x=tf.keras.layers.Dense(129,activation=\"relu\")(x)\n",
        "\n",
        "outputs= tf.keras.layers.Dense(101,activation=\"softmax\")(x)\n",
        "model = tf.keras.Model(inputs,outputs)"
      ],
      "metadata": {
        "id": "07TtqSxo6a3v"
      },
      "execution_count": null,
      "outputs": []
    },
    {
      "cell_type": "markdown",
      "source": [
        "#Training"
      ],
      "metadata": {
        "id": "vTro96bS7VP_"
      }
    },
    {
      "cell_type": "code",
      "source": [
        "model.compile(\n",
        "    optimizer=\"adam\",\n",
        "    loss=\"categorical_crossentropy\",\n",
        "    metrics=[\"accuracy\"]\n",
        ")\n",
        "history=model.fit(\n",
        "    train_images,\n",
        "    validation_data=val_images,\n",
        "    epochs=100,\n",
        "    callbacks=[\n",
        "        tf.keras.callbacks.EarlyStopping(\n",
        "            monitor=\"val_loss\",\n",
        "            patience=10,\n",
        "            restore_best_weights=True\n",
        "        )\n",
        "    ]\n",
        ")"
      ],
      "metadata": {
        "id": "cMpKwPCP6-uD"
      },
      "execution_count": null,
      "outputs": []
    },
    {
      "cell_type": "markdown",
      "source": [
        "#Result 1\n"
      ],
      "metadata": {
        "id": "ezx6jWIE7xiT"
      }
    },
    {
      "cell_type": "code",
      "source": [
        "results = model.evaluate(test_images,verbose=0)\n",
        "print(\"Test Accuracy: {:.2f}%\".format(results[1]*100))"
      ],
      "metadata": {
        "id": "0SMJH8JG7umb"
      },
      "execution_count": null,
      "outputs": []
    },
    {
      "cell_type": "code",
      "source": [
        "predictions=np.argmax(model.predict(test_images),axis=1)\n",
        "\n",
        "cm = confusion_matrix(test_images.labels,predictions)\n",
        "clr = classification_report(test_images.labels,predictions,target_names=test_images.class_indices)"
      ],
      "metadata": {
        "id": "sRi_pWSW7-B6"
      },
      "execution_count": null,
      "outputs": []
    },
    {
      "cell_type": "code",
      "source": [
        "plt.figure(figsize=(30,30))\n",
        "sns.heatmap(cm,annot=True,fmt=\"g\",vmin=0,cmap=\"Blues\",cbar=False,rotation=90)\n",
        "plt.xticks(ticks=np.arange(101)+0.5,labels=test_images.class_indices)\n",
        "plt.xlabel(\"predicted\")\n",
        "plt.ylabel(\"actual\")\n",
        "plt.title(\"confusion matrix\")\n",
        "plt.show()\n"
      ],
      "metadata": {
        "id": "jOunFdL-8aBu"
      },
      "execution_count": null,
      "outputs": []
    },
    {
      "cell_type": "code",
      "source": [
        "print(clr)"
      ],
      "metadata": {
        "id": "UY_NrGRb8pLU"
      },
      "execution_count": null,
      "outputs": []
    },
    {
      "cell_type": "markdown",
      "source": [
        "#model 2\n"
      ],
      "metadata": {
        "id": "m8u_OKeLCbKR"
      }
    },
    {
      "cell_type": "code",
      "source": [
        "import tensorflow as tf\n",
        "from tensorflow.keras.applications import ResNet50\n",
        "\n",
        "pretrained_model = ResNet50(\n",
        "    input_shape=(224, 224, 3),\n",
        "    include_top=False,\n",
        "    weights=\"imagenet\",\n",
        "    pooling=\"avg\"\n",
        ")\n",
        "pretrained_model.trainable = False\n",
        "\n",
        "inputs = pretrained_model.input\n",
        "x = tf.keras.layers.Dense(129, activation=\"relu\")(pretrained_model.output)\n",
        "x = tf.keras.layers.Dense(129, activation=\"relu\")(x)\n",
        "\n",
        "outputs = tf.keras.layers.Dense(101, activation=\"softmax\")(x)\n",
        "model = tf.keras.Model(inputs, outputs)\n",
        "model.compile(\n",
        "    optimizer=\"adam\",\n",
        "    loss=\"categorical_crossentropy\",\n",
        "    metrics=[\"accuracy\"]\n",
        ")\n",
        "\n",
        "history = model.fit(\n",
        "    train_images,\n",
        "    validation_data=val_images,\n",
        "    epochs=20,\n",
        "    callbacks=[\n",
        "        tf.keras.callbacks.EarlyStopping(\n",
        "            monitor=\"val_loss\",\n",
        "            patience=10,\n",
        "            restore_best_weights=True\n",
        "        )\n",
        "    ]\n",
        ")\n"
      ],
      "metadata": {
        "collapsed": true,
        "id": "iDDJ6xBJ9BLB"
      },
      "execution_count": null,
      "outputs": []
    },
    {
      "cell_type": "code",
      "source": [
        "results = model.evaluate(test_images,verbose=0)\n",
        "print(\"Test Accuracy: {:.2f}%\".format(results[1]*100))"
      ],
      "metadata": {
        "id": "T-GyLHBwCgfD"
      },
      "execution_count": null,
      "outputs": []
    },
    {
      "cell_type": "code",
      "source": [
        "predictions=np.argmax(model.predict(test_images),axis=1)\n",
        "\n",
        "cm = confusion_matrix(test_images.labels,predictions)\n",
        "clr = classification_report(test_images.labels,predictions,target_names=test_images.class_indices)"
      ],
      "metadata": {
        "id": "Ez6lT_xUCg7u"
      },
      "execution_count": null,
      "outputs": []
    },
    {
      "cell_type": "code",
      "source": [
        "plt.figure(figsize=(30,30))\n",
        "sns.heatmap(cm,annot=True,fmt=\"g\",vmin=0,cmap=\"Blues\",cbar=False,rotation=90)\n",
        "plt.xticks(ticks=np.arange(101)+0.5,labels=test_images.class_indices)\n",
        "plt.xlabel(\"predicted\")\n",
        "plt.ylabel(\"actual\")\n",
        "plt.title(\"confusion matrix\")\n",
        "plt.show()\n"
      ],
      "metadata": {
        "id": "SnZfER_vCks_"
      },
      "execution_count": null,
      "outputs": []
    },
    {
      "cell_type": "code",
      "source": [],
      "metadata": {
        "id": "XLh4Z-BoCk6F"
      },
      "execution_count": null,
      "outputs": []
    }
  ]
}